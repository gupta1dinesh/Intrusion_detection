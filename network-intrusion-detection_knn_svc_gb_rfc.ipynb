{
 "cells": [
  {
   "cell_type": "code",
   "execution_count": 1,
   "id": "7f1328b5",
   "metadata": {
    "_cell_guid": "b1076dfc-b9ad-4769-8c92-a6c4dae69d19",
    "_uuid": "8f2839f25d086af736a60e9eeb907d3b93b6e0e5",
    "execution": {
     "iopub.execute_input": "2023-09-03T18:40:06.669168Z",
     "iopub.status.busy": "2023-09-03T18:40:06.668636Z",
     "iopub.status.idle": "2023-09-03T18:40:06.695522Z",
     "shell.execute_reply": "2023-09-03T18:40:06.694374Z"
    },
    "papermill": {
     "duration": 0.047901,
     "end_time": "2023-09-03T18:40:06.698655",
     "exception": false,
     "start_time": "2023-09-03T18:40:06.650754",
     "status": "completed"
    },
    "tags": []
   },
   "outputs": [
    {
     "name": "stdout",
     "output_type": "stream",
     "text": [
      "/kaggle/input/network-intrusion-detection/Train_data.csv\n",
      "/kaggle/input/network-intrusion-detection/Test_data.csv\n"
     ]
    }
   ],
   "source": [
    "# Author @ Richard Gupta (Dinesh Kumar Gupta)\n",
    "\n",
    "### Network Intrusion Detection applying KNN, svc, rfc, gb\n",
    "\n",
    "import os\n",
    "for dirname, _, filenames in os.walk('/kaggle/input'):\n",
    "    for filename in filenames:\n",
    "        print(os.path.join(dirname, filename))\n",
    "\n"
   ]
  },
  {
   "cell_type": "code",
   "execution_count": 2,
   "id": "c46d497e",
   "metadata": {
    "execution": {
     "iopub.execute_input": "2023-09-03T18:40:06.731000Z",
     "iopub.status.busy": "2023-09-03T18:40:06.730577Z",
     "iopub.status.idle": "2023-09-03T18:40:10.705253Z",
     "shell.execute_reply": "2023-09-03T18:40:10.703886Z"
    },
    "papermill": {
     "duration": 3.99432,
     "end_time": "2023-09-03T18:40:10.708337",
     "exception": false,
     "start_time": "2023-09-03T18:40:06.714017",
     "status": "completed"
    },
    "tags": []
   },
   "outputs": [
    {
     "name": "stderr",
     "output_type": "stream",
     "text": [
      "/opt/conda/lib/python3.10/site-packages/scipy/__init__.py:146: UserWarning: A NumPy version >=1.16.5 and <1.23.0 is required for this version of SciPy (detected version 1.23.5\n",
      "  warnings.warn(f\"A NumPy version >={np_minversion} and <{np_maxversion}\"\n"
     ]
    },
    {
     "name": "stdout",
     "output_type": "stream",
     "text": [
      "Libraries have been imported successfully\n"
     ]
    }
   ],
   "source": [
    "# import libraries \n",
    "import numpy as np \n",
    "import pandas as pd \n",
    "import seaborn as sns \n",
    "import matplotlib.pyplot as plt \n",
    "from pandas.api.types import is_numeric_dtype\n",
    "import warnings \n",
    "from sklearn import tree \n",
    "from sklearn.model_selection import train_test_split \n",
    "from sklearn.neighbors import KNeighborsClassifier\n",
    "from sklearn.linear_model import LogisticRegression \n",
    "from sklearn.preprocessing import StandardScaler, LabelEncoder \n",
    "from sklearn.tree import DecisionTreeClassifier\n",
    "from sklearn.ensemble import RandomForestClassifier, AdaBoostClassifier, VotingClassifier, GradientBoostingClassifier\n",
    "from sklearn.svm import SVC, LinearSVC\n",
    "from sklearn.naive_bayes import BernoulliNB\n",
    "from lightgbm import LGBMClassifier \n",
    "from sklearn.feature_selection import RFE \n",
    "import itertools\n",
    "from xgboost import XGBClassifier\n",
    "from tabulate import tabulate\n",
    "print(\"Libraries have been imported successfully\")"
   ]
  },
  {
   "cell_type": "code",
   "execution_count": 3,
   "id": "fbe72fbb",
   "metadata": {
    "execution": {
     "iopub.execute_input": "2023-09-03T18:40:10.742930Z",
     "iopub.status.busy": "2023-09-03T18:40:10.742492Z",
     "iopub.status.idle": "2023-09-03T18:40:11.139849Z",
     "shell.execute_reply": "2023-09-03T18:40:11.138961Z"
    },
    "papermill": {
     "duration": 0.417056,
     "end_time": "2023-09-03T18:40:11.142367",
     "exception": false,
     "start_time": "2023-09-03T18:40:10.725311",
     "status": "completed"
    },
    "tags": []
   },
   "outputs": [
    {
     "data": {
      "text/html": [
       "<div>\n",
       "<style scoped>\n",
       "    .dataframe tbody tr th:only-of-type {\n",
       "        vertical-align: middle;\n",
       "    }\n",
       "\n",
       "    .dataframe tbody tr th {\n",
       "        vertical-align: top;\n",
       "    }\n",
       "\n",
       "    .dataframe thead th {\n",
       "        text-align: right;\n",
       "    }\n",
       "</style>\n",
       "<table border=\"1\" class=\"dataframe\">\n",
       "  <thead>\n",
       "    <tr style=\"text-align: right;\">\n",
       "      <th></th>\n",
       "      <th>duration</th>\n",
       "      <th>protocol_type</th>\n",
       "      <th>service</th>\n",
       "      <th>flag</th>\n",
       "      <th>src_bytes</th>\n",
       "      <th>dst_bytes</th>\n",
       "      <th>land</th>\n",
       "      <th>wrong_fragment</th>\n",
       "      <th>urgent</th>\n",
       "      <th>hot</th>\n",
       "      <th>...</th>\n",
       "      <th>dst_host_count</th>\n",
       "      <th>dst_host_srv_count</th>\n",
       "      <th>dst_host_same_srv_rate</th>\n",
       "      <th>dst_host_diff_srv_rate</th>\n",
       "      <th>dst_host_same_src_port_rate</th>\n",
       "      <th>dst_host_srv_diff_host_rate</th>\n",
       "      <th>dst_host_serror_rate</th>\n",
       "      <th>dst_host_srv_serror_rate</th>\n",
       "      <th>dst_host_rerror_rate</th>\n",
       "      <th>dst_host_srv_rerror_rate</th>\n",
       "    </tr>\n",
       "  </thead>\n",
       "  <tbody>\n",
       "    <tr>\n",
       "      <th>0</th>\n",
       "      <td>0</td>\n",
       "      <td>tcp</td>\n",
       "      <td>private</td>\n",
       "      <td>REJ</td>\n",
       "      <td>0</td>\n",
       "      <td>0</td>\n",
       "      <td>0</td>\n",
       "      <td>0</td>\n",
       "      <td>0</td>\n",
       "      <td>0</td>\n",
       "      <td>...</td>\n",
       "      <td>255</td>\n",
       "      <td>10</td>\n",
       "      <td>0.04</td>\n",
       "      <td>0.06</td>\n",
       "      <td>0.00</td>\n",
       "      <td>0.00</td>\n",
       "      <td>0.0</td>\n",
       "      <td>0.0</td>\n",
       "      <td>1.00</td>\n",
       "      <td>1.00</td>\n",
       "    </tr>\n",
       "    <tr>\n",
       "      <th>1</th>\n",
       "      <td>0</td>\n",
       "      <td>tcp</td>\n",
       "      <td>private</td>\n",
       "      <td>REJ</td>\n",
       "      <td>0</td>\n",
       "      <td>0</td>\n",
       "      <td>0</td>\n",
       "      <td>0</td>\n",
       "      <td>0</td>\n",
       "      <td>0</td>\n",
       "      <td>...</td>\n",
       "      <td>255</td>\n",
       "      <td>1</td>\n",
       "      <td>0.00</td>\n",
       "      <td>0.06</td>\n",
       "      <td>0.00</td>\n",
       "      <td>0.00</td>\n",
       "      <td>0.0</td>\n",
       "      <td>0.0</td>\n",
       "      <td>1.00</td>\n",
       "      <td>1.00</td>\n",
       "    </tr>\n",
       "    <tr>\n",
       "      <th>2</th>\n",
       "      <td>2</td>\n",
       "      <td>tcp</td>\n",
       "      <td>ftp_data</td>\n",
       "      <td>SF</td>\n",
       "      <td>12983</td>\n",
       "      <td>0</td>\n",
       "      <td>0</td>\n",
       "      <td>0</td>\n",
       "      <td>0</td>\n",
       "      <td>0</td>\n",
       "      <td>...</td>\n",
       "      <td>134</td>\n",
       "      <td>86</td>\n",
       "      <td>0.61</td>\n",
       "      <td>0.04</td>\n",
       "      <td>0.61</td>\n",
       "      <td>0.02</td>\n",
       "      <td>0.0</td>\n",
       "      <td>0.0</td>\n",
       "      <td>0.00</td>\n",
       "      <td>0.00</td>\n",
       "    </tr>\n",
       "    <tr>\n",
       "      <th>3</th>\n",
       "      <td>0</td>\n",
       "      <td>icmp</td>\n",
       "      <td>eco_i</td>\n",
       "      <td>SF</td>\n",
       "      <td>20</td>\n",
       "      <td>0</td>\n",
       "      <td>0</td>\n",
       "      <td>0</td>\n",
       "      <td>0</td>\n",
       "      <td>0</td>\n",
       "      <td>...</td>\n",
       "      <td>3</td>\n",
       "      <td>57</td>\n",
       "      <td>1.00</td>\n",
       "      <td>0.00</td>\n",
       "      <td>1.00</td>\n",
       "      <td>0.28</td>\n",
       "      <td>0.0</td>\n",
       "      <td>0.0</td>\n",
       "      <td>0.00</td>\n",
       "      <td>0.00</td>\n",
       "    </tr>\n",
       "    <tr>\n",
       "      <th>4</th>\n",
       "      <td>1</td>\n",
       "      <td>tcp</td>\n",
       "      <td>telnet</td>\n",
       "      <td>RSTO</td>\n",
       "      <td>0</td>\n",
       "      <td>15</td>\n",
       "      <td>0</td>\n",
       "      <td>0</td>\n",
       "      <td>0</td>\n",
       "      <td>0</td>\n",
       "      <td>...</td>\n",
       "      <td>29</td>\n",
       "      <td>86</td>\n",
       "      <td>0.31</td>\n",
       "      <td>0.17</td>\n",
       "      <td>0.03</td>\n",
       "      <td>0.02</td>\n",
       "      <td>0.0</td>\n",
       "      <td>0.0</td>\n",
       "      <td>0.83</td>\n",
       "      <td>0.71</td>\n",
       "    </tr>\n",
       "  </tbody>\n",
       "</table>\n",
       "<p>5 rows × 41 columns</p>\n",
       "</div>"
      ],
      "text/plain": [
       "   duration protocol_type   service  flag  src_bytes  dst_bytes  land  \\\n",
       "0         0           tcp   private   REJ          0          0     0   \n",
       "1         0           tcp   private   REJ          0          0     0   \n",
       "2         2           tcp  ftp_data    SF      12983          0     0   \n",
       "3         0          icmp     eco_i    SF         20          0     0   \n",
       "4         1           tcp    telnet  RSTO          0         15     0   \n",
       "\n",
       "   wrong_fragment  urgent  hot  ...  dst_host_count  dst_host_srv_count  \\\n",
       "0               0       0    0  ...             255                  10   \n",
       "1               0       0    0  ...             255                   1   \n",
       "2               0       0    0  ...             134                  86   \n",
       "3               0       0    0  ...               3                  57   \n",
       "4               0       0    0  ...              29                  86   \n",
       "\n",
       "   dst_host_same_srv_rate  dst_host_diff_srv_rate  \\\n",
       "0                    0.04                    0.06   \n",
       "1                    0.00                    0.06   \n",
       "2                    0.61                    0.04   \n",
       "3                    1.00                    0.00   \n",
       "4                    0.31                    0.17   \n",
       "\n",
       "   dst_host_same_src_port_rate  dst_host_srv_diff_host_rate  \\\n",
       "0                         0.00                         0.00   \n",
       "1                         0.00                         0.00   \n",
       "2                         0.61                         0.02   \n",
       "3                         1.00                         0.28   \n",
       "4                         0.03                         0.02   \n",
       "\n",
       "   dst_host_serror_rate  dst_host_srv_serror_rate  dst_host_rerror_rate  \\\n",
       "0                   0.0                       0.0                  1.00   \n",
       "1                   0.0                       0.0                  1.00   \n",
       "2                   0.0                       0.0                  0.00   \n",
       "3                   0.0                       0.0                  0.00   \n",
       "4                   0.0                       0.0                  0.83   \n",
       "\n",
       "   dst_host_srv_rerror_rate  \n",
       "0                      1.00  \n",
       "1                      1.00  \n",
       "2                      0.00  \n",
       "3                      0.00  \n",
       "4                      0.71  \n",
       "\n",
       "[5 rows x 41 columns]"
      ]
     },
     "execution_count": 3,
     "metadata": {},
     "output_type": "execute_result"
    }
   ],
   "source": [
    "#Reading the data csv file in dataframe using pandas\n",
    "df_train = pd.read_csv(\"/kaggle/input/network-intrusion-detection/Train_data.csv\")\n",
    "df_test = pd.read_csv(\"/kaggle/input/network-intrusion-detection/Test_data.csv\")\n",
    "#df_train.head()\n",
    "df_test.head()"
   ]
  },
  {
   "cell_type": "code",
   "execution_count": 4,
   "id": "9feec67a",
   "metadata": {
    "execution": {
     "iopub.execute_input": "2023-09-03T18:40:11.176248Z",
     "iopub.status.busy": "2023-09-03T18:40:11.175428Z",
     "iopub.status.idle": "2023-09-03T18:40:11.203524Z",
     "shell.execute_reply": "2023-09-03T18:40:11.201723Z"
    },
    "papermill": {
     "duration": 0.050591,
     "end_time": "2023-09-03T18:40:11.208864",
     "exception": false,
     "start_time": "2023-09-03T18:40:11.158273",
     "status": "completed"
    },
    "tags": []
   },
   "outputs": [
    {
     "data": {
      "text/html": [
       "<div>\n",
       "<style scoped>\n",
       "    .dataframe tbody tr th:only-of-type {\n",
       "        vertical-align: middle;\n",
       "    }\n",
       "\n",
       "    .dataframe tbody tr th {\n",
       "        vertical-align: top;\n",
       "    }\n",
       "\n",
       "    .dataframe thead th {\n",
       "        text-align: right;\n",
       "    }\n",
       "</style>\n",
       "<table border=\"1\" class=\"dataframe\">\n",
       "  <thead>\n",
       "    <tr style=\"text-align: right;\">\n",
       "      <th></th>\n",
       "      <th>duration</th>\n",
       "      <th>protocol_type</th>\n",
       "      <th>service</th>\n",
       "      <th>flag</th>\n",
       "      <th>src_bytes</th>\n",
       "      <th>dst_bytes</th>\n",
       "      <th>land</th>\n",
       "      <th>wrong_fragment</th>\n",
       "      <th>urgent</th>\n",
       "      <th>hot</th>\n",
       "      <th>...</th>\n",
       "      <th>dst_host_srv_count</th>\n",
       "      <th>dst_host_same_srv_rate</th>\n",
       "      <th>dst_host_diff_srv_rate</th>\n",
       "      <th>dst_host_same_src_port_rate</th>\n",
       "      <th>dst_host_srv_diff_host_rate</th>\n",
       "      <th>dst_host_serror_rate</th>\n",
       "      <th>dst_host_srv_serror_rate</th>\n",
       "      <th>dst_host_rerror_rate</th>\n",
       "      <th>dst_host_srv_rerror_rate</th>\n",
       "      <th>class</th>\n",
       "    </tr>\n",
       "  </thead>\n",
       "  <tbody>\n",
       "    <tr>\n",
       "      <th>0</th>\n",
       "      <td>0</td>\n",
       "      <td>tcp</td>\n",
       "      <td>ftp_data</td>\n",
       "      <td>SF</td>\n",
       "      <td>491</td>\n",
       "      <td>0</td>\n",
       "      <td>0</td>\n",
       "      <td>0</td>\n",
       "      <td>0</td>\n",
       "      <td>0</td>\n",
       "      <td>...</td>\n",
       "      <td>25</td>\n",
       "      <td>0.17</td>\n",
       "      <td>0.03</td>\n",
       "      <td>0.17</td>\n",
       "      <td>0.00</td>\n",
       "      <td>0.00</td>\n",
       "      <td>0.00</td>\n",
       "      <td>0.05</td>\n",
       "      <td>0.00</td>\n",
       "      <td>normal</td>\n",
       "    </tr>\n",
       "    <tr>\n",
       "      <th>1</th>\n",
       "      <td>0</td>\n",
       "      <td>udp</td>\n",
       "      <td>other</td>\n",
       "      <td>SF</td>\n",
       "      <td>146</td>\n",
       "      <td>0</td>\n",
       "      <td>0</td>\n",
       "      <td>0</td>\n",
       "      <td>0</td>\n",
       "      <td>0</td>\n",
       "      <td>...</td>\n",
       "      <td>1</td>\n",
       "      <td>0.00</td>\n",
       "      <td>0.60</td>\n",
       "      <td>0.88</td>\n",
       "      <td>0.00</td>\n",
       "      <td>0.00</td>\n",
       "      <td>0.00</td>\n",
       "      <td>0.00</td>\n",
       "      <td>0.00</td>\n",
       "      <td>normal</td>\n",
       "    </tr>\n",
       "    <tr>\n",
       "      <th>2</th>\n",
       "      <td>0</td>\n",
       "      <td>tcp</td>\n",
       "      <td>private</td>\n",
       "      <td>S0</td>\n",
       "      <td>0</td>\n",
       "      <td>0</td>\n",
       "      <td>0</td>\n",
       "      <td>0</td>\n",
       "      <td>0</td>\n",
       "      <td>0</td>\n",
       "      <td>...</td>\n",
       "      <td>26</td>\n",
       "      <td>0.10</td>\n",
       "      <td>0.05</td>\n",
       "      <td>0.00</td>\n",
       "      <td>0.00</td>\n",
       "      <td>1.00</td>\n",
       "      <td>1.00</td>\n",
       "      <td>0.00</td>\n",
       "      <td>0.00</td>\n",
       "      <td>anomaly</td>\n",
       "    </tr>\n",
       "    <tr>\n",
       "      <th>3</th>\n",
       "      <td>0</td>\n",
       "      <td>tcp</td>\n",
       "      <td>http</td>\n",
       "      <td>SF</td>\n",
       "      <td>232</td>\n",
       "      <td>8153</td>\n",
       "      <td>0</td>\n",
       "      <td>0</td>\n",
       "      <td>0</td>\n",
       "      <td>0</td>\n",
       "      <td>...</td>\n",
       "      <td>255</td>\n",
       "      <td>1.00</td>\n",
       "      <td>0.00</td>\n",
       "      <td>0.03</td>\n",
       "      <td>0.04</td>\n",
       "      <td>0.03</td>\n",
       "      <td>0.01</td>\n",
       "      <td>0.00</td>\n",
       "      <td>0.01</td>\n",
       "      <td>normal</td>\n",
       "    </tr>\n",
       "    <tr>\n",
       "      <th>4</th>\n",
       "      <td>0</td>\n",
       "      <td>tcp</td>\n",
       "      <td>http</td>\n",
       "      <td>SF</td>\n",
       "      <td>199</td>\n",
       "      <td>420</td>\n",
       "      <td>0</td>\n",
       "      <td>0</td>\n",
       "      <td>0</td>\n",
       "      <td>0</td>\n",
       "      <td>...</td>\n",
       "      <td>255</td>\n",
       "      <td>1.00</td>\n",
       "      <td>0.00</td>\n",
       "      <td>0.00</td>\n",
       "      <td>0.00</td>\n",
       "      <td>0.00</td>\n",
       "      <td>0.00</td>\n",
       "      <td>0.00</td>\n",
       "      <td>0.00</td>\n",
       "      <td>normal</td>\n",
       "    </tr>\n",
       "  </tbody>\n",
       "</table>\n",
       "<p>5 rows × 42 columns</p>\n",
       "</div>"
      ],
      "text/plain": [
       "   duration protocol_type   service flag  src_bytes  dst_bytes  land  \\\n",
       "0         0           tcp  ftp_data   SF        491          0     0   \n",
       "1         0           udp     other   SF        146          0     0   \n",
       "2         0           tcp   private   S0          0          0     0   \n",
       "3         0           tcp      http   SF        232       8153     0   \n",
       "4         0           tcp      http   SF        199        420     0   \n",
       "\n",
       "   wrong_fragment  urgent  hot  ...  dst_host_srv_count  \\\n",
       "0               0       0    0  ...                  25   \n",
       "1               0       0    0  ...                   1   \n",
       "2               0       0    0  ...                  26   \n",
       "3               0       0    0  ...                 255   \n",
       "4               0       0    0  ...                 255   \n",
       "\n",
       "   dst_host_same_srv_rate  dst_host_diff_srv_rate  \\\n",
       "0                    0.17                    0.03   \n",
       "1                    0.00                    0.60   \n",
       "2                    0.10                    0.05   \n",
       "3                    1.00                    0.00   \n",
       "4                    1.00                    0.00   \n",
       "\n",
       "   dst_host_same_src_port_rate  dst_host_srv_diff_host_rate  \\\n",
       "0                         0.17                         0.00   \n",
       "1                         0.88                         0.00   \n",
       "2                         0.00                         0.00   \n",
       "3                         0.03                         0.04   \n",
       "4                         0.00                         0.00   \n",
       "\n",
       "   dst_host_serror_rate  dst_host_srv_serror_rate  dst_host_rerror_rate  \\\n",
       "0                  0.00                      0.00                  0.05   \n",
       "1                  0.00                      0.00                  0.00   \n",
       "2                  1.00                      1.00                  0.00   \n",
       "3                  0.03                      0.01                  0.00   \n",
       "4                  0.00                      0.00                  0.00   \n",
       "\n",
       "   dst_host_srv_rerror_rate    class  \n",
       "0                      0.00   normal  \n",
       "1                      0.00   normal  \n",
       "2                      0.00  anomaly  \n",
       "3                      0.01   normal  \n",
       "4                      0.00   normal  \n",
       "\n",
       "[5 rows x 42 columns]"
      ]
     },
     "execution_count": 4,
     "metadata": {},
     "output_type": "execute_result"
    }
   ],
   "source": [
    "df_train.head()"
   ]
  },
  {
   "cell_type": "code",
   "execution_count": 5,
   "id": "1d8175c8",
   "metadata": {
    "execution": {
     "iopub.execute_input": "2023-09-03T18:40:11.243372Z",
     "iopub.status.busy": "2023-09-03T18:40:11.242971Z",
     "iopub.status.idle": "2023-09-03T18:40:11.412479Z",
     "shell.execute_reply": "2023-09-03T18:40:11.411279Z"
    },
    "papermill": {
     "duration": 0.189928,
     "end_time": "2023-09-03T18:40:11.415189",
     "exception": false,
     "start_time": "2023-09-03T18:40:11.225261",
     "status": "completed"
    },
    "tags": []
   },
   "outputs": [
    {
     "data": {
      "text/html": [
       "<div>\n",
       "<style scoped>\n",
       "    .dataframe tbody tr th:only-of-type {\n",
       "        vertical-align: middle;\n",
       "    }\n",
       "\n",
       "    .dataframe tbody tr th {\n",
       "        vertical-align: top;\n",
       "    }\n",
       "\n",
       "    .dataframe thead th {\n",
       "        text-align: right;\n",
       "    }\n",
       "</style>\n",
       "<table border=\"1\" class=\"dataframe\">\n",
       "  <thead>\n",
       "    <tr style=\"text-align: right;\">\n",
       "      <th></th>\n",
       "      <th>duration</th>\n",
       "      <th>src_bytes</th>\n",
       "      <th>dst_bytes</th>\n",
       "      <th>land</th>\n",
       "      <th>wrong_fragment</th>\n",
       "      <th>urgent</th>\n",
       "      <th>hot</th>\n",
       "      <th>num_failed_logins</th>\n",
       "      <th>logged_in</th>\n",
       "      <th>num_compromised</th>\n",
       "      <th>...</th>\n",
       "      <th>dst_host_count</th>\n",
       "      <th>dst_host_srv_count</th>\n",
       "      <th>dst_host_same_srv_rate</th>\n",
       "      <th>dst_host_diff_srv_rate</th>\n",
       "      <th>dst_host_same_src_port_rate</th>\n",
       "      <th>dst_host_srv_diff_host_rate</th>\n",
       "      <th>dst_host_serror_rate</th>\n",
       "      <th>dst_host_srv_serror_rate</th>\n",
       "      <th>dst_host_rerror_rate</th>\n",
       "      <th>dst_host_srv_rerror_rate</th>\n",
       "    </tr>\n",
       "  </thead>\n",
       "  <tbody>\n",
       "    <tr>\n",
       "      <th>count</th>\n",
       "      <td>25192.000000</td>\n",
       "      <td>2.519200e+04</td>\n",
       "      <td>2.519200e+04</td>\n",
       "      <td>25192.000000</td>\n",
       "      <td>25192.000000</td>\n",
       "      <td>25192.00000</td>\n",
       "      <td>25192.000000</td>\n",
       "      <td>25192.000000</td>\n",
       "      <td>25192.000000</td>\n",
       "      <td>25192.000000</td>\n",
       "      <td>...</td>\n",
       "      <td>25192.000000</td>\n",
       "      <td>25192.000000</td>\n",
       "      <td>25192.000000</td>\n",
       "      <td>25192.000000</td>\n",
       "      <td>25192.000000</td>\n",
       "      <td>25192.000000</td>\n",
       "      <td>25192.000000</td>\n",
       "      <td>25192.000000</td>\n",
       "      <td>25192.000000</td>\n",
       "      <td>25192.000000</td>\n",
       "    </tr>\n",
       "    <tr>\n",
       "      <th>mean</th>\n",
       "      <td>305.054104</td>\n",
       "      <td>2.433063e+04</td>\n",
       "      <td>3.491847e+03</td>\n",
       "      <td>0.000079</td>\n",
       "      <td>0.023738</td>\n",
       "      <td>0.00004</td>\n",
       "      <td>0.198039</td>\n",
       "      <td>0.001191</td>\n",
       "      <td>0.394768</td>\n",
       "      <td>0.227850</td>\n",
       "      <td>...</td>\n",
       "      <td>182.532074</td>\n",
       "      <td>115.063036</td>\n",
       "      <td>0.519791</td>\n",
       "      <td>0.082539</td>\n",
       "      <td>0.147453</td>\n",
       "      <td>0.031844</td>\n",
       "      <td>0.285800</td>\n",
       "      <td>0.279846</td>\n",
       "      <td>0.117800</td>\n",
       "      <td>0.118769</td>\n",
       "    </tr>\n",
       "    <tr>\n",
       "      <th>std</th>\n",
       "      <td>2686.555640</td>\n",
       "      <td>2.410805e+06</td>\n",
       "      <td>8.883072e+04</td>\n",
       "      <td>0.008910</td>\n",
       "      <td>0.260221</td>\n",
       "      <td>0.00630</td>\n",
       "      <td>2.154202</td>\n",
       "      <td>0.045418</td>\n",
       "      <td>0.488811</td>\n",
       "      <td>10.417352</td>\n",
       "      <td>...</td>\n",
       "      <td>98.993895</td>\n",
       "      <td>110.646850</td>\n",
       "      <td>0.448944</td>\n",
       "      <td>0.187191</td>\n",
       "      <td>0.308367</td>\n",
       "      <td>0.110575</td>\n",
       "      <td>0.445316</td>\n",
       "      <td>0.446075</td>\n",
       "      <td>0.305869</td>\n",
       "      <td>0.317333</td>\n",
       "    </tr>\n",
       "    <tr>\n",
       "      <th>min</th>\n",
       "      <td>0.000000</td>\n",
       "      <td>0.000000e+00</td>\n",
       "      <td>0.000000e+00</td>\n",
       "      <td>0.000000</td>\n",
       "      <td>0.000000</td>\n",
       "      <td>0.00000</td>\n",
       "      <td>0.000000</td>\n",
       "      <td>0.000000</td>\n",
       "      <td>0.000000</td>\n",
       "      <td>0.000000</td>\n",
       "      <td>...</td>\n",
       "      <td>0.000000</td>\n",
       "      <td>0.000000</td>\n",
       "      <td>0.000000</td>\n",
       "      <td>0.000000</td>\n",
       "      <td>0.000000</td>\n",
       "      <td>0.000000</td>\n",
       "      <td>0.000000</td>\n",
       "      <td>0.000000</td>\n",
       "      <td>0.000000</td>\n",
       "      <td>0.000000</td>\n",
       "    </tr>\n",
       "    <tr>\n",
       "      <th>25%</th>\n",
       "      <td>0.000000</td>\n",
       "      <td>0.000000e+00</td>\n",
       "      <td>0.000000e+00</td>\n",
       "      <td>0.000000</td>\n",
       "      <td>0.000000</td>\n",
       "      <td>0.00000</td>\n",
       "      <td>0.000000</td>\n",
       "      <td>0.000000</td>\n",
       "      <td>0.000000</td>\n",
       "      <td>0.000000</td>\n",
       "      <td>...</td>\n",
       "      <td>84.000000</td>\n",
       "      <td>10.000000</td>\n",
       "      <td>0.050000</td>\n",
       "      <td>0.000000</td>\n",
       "      <td>0.000000</td>\n",
       "      <td>0.000000</td>\n",
       "      <td>0.000000</td>\n",
       "      <td>0.000000</td>\n",
       "      <td>0.000000</td>\n",
       "      <td>0.000000</td>\n",
       "    </tr>\n",
       "    <tr>\n",
       "      <th>50%</th>\n",
       "      <td>0.000000</td>\n",
       "      <td>4.400000e+01</td>\n",
       "      <td>0.000000e+00</td>\n",
       "      <td>0.000000</td>\n",
       "      <td>0.000000</td>\n",
       "      <td>0.00000</td>\n",
       "      <td>0.000000</td>\n",
       "      <td>0.000000</td>\n",
       "      <td>0.000000</td>\n",
       "      <td>0.000000</td>\n",
       "      <td>...</td>\n",
       "      <td>255.000000</td>\n",
       "      <td>61.000000</td>\n",
       "      <td>0.510000</td>\n",
       "      <td>0.030000</td>\n",
       "      <td>0.000000</td>\n",
       "      <td>0.000000</td>\n",
       "      <td>0.000000</td>\n",
       "      <td>0.000000</td>\n",
       "      <td>0.000000</td>\n",
       "      <td>0.000000</td>\n",
       "    </tr>\n",
       "    <tr>\n",
       "      <th>75%</th>\n",
       "      <td>0.000000</td>\n",
       "      <td>2.790000e+02</td>\n",
       "      <td>5.302500e+02</td>\n",
       "      <td>0.000000</td>\n",
       "      <td>0.000000</td>\n",
       "      <td>0.00000</td>\n",
       "      <td>0.000000</td>\n",
       "      <td>0.000000</td>\n",
       "      <td>1.000000</td>\n",
       "      <td>0.000000</td>\n",
       "      <td>...</td>\n",
       "      <td>255.000000</td>\n",
       "      <td>255.000000</td>\n",
       "      <td>1.000000</td>\n",
       "      <td>0.070000</td>\n",
       "      <td>0.060000</td>\n",
       "      <td>0.020000</td>\n",
       "      <td>1.000000</td>\n",
       "      <td>1.000000</td>\n",
       "      <td>0.000000</td>\n",
       "      <td>0.000000</td>\n",
       "    </tr>\n",
       "    <tr>\n",
       "      <th>max</th>\n",
       "      <td>42862.000000</td>\n",
       "      <td>3.817091e+08</td>\n",
       "      <td>5.151385e+06</td>\n",
       "      <td>1.000000</td>\n",
       "      <td>3.000000</td>\n",
       "      <td>1.00000</td>\n",
       "      <td>77.000000</td>\n",
       "      <td>4.000000</td>\n",
       "      <td>1.000000</td>\n",
       "      <td>884.000000</td>\n",
       "      <td>...</td>\n",
       "      <td>255.000000</td>\n",
       "      <td>255.000000</td>\n",
       "      <td>1.000000</td>\n",
       "      <td>1.000000</td>\n",
       "      <td>1.000000</td>\n",
       "      <td>1.000000</td>\n",
       "      <td>1.000000</td>\n",
       "      <td>1.000000</td>\n",
       "      <td>1.000000</td>\n",
       "      <td>1.000000</td>\n",
       "    </tr>\n",
       "  </tbody>\n",
       "</table>\n",
       "<p>8 rows × 38 columns</p>\n",
       "</div>"
      ],
      "text/plain": [
       "           duration     src_bytes     dst_bytes          land  wrong_fragment  \\\n",
       "count  25192.000000  2.519200e+04  2.519200e+04  25192.000000    25192.000000   \n",
       "mean     305.054104  2.433063e+04  3.491847e+03      0.000079        0.023738   \n",
       "std     2686.555640  2.410805e+06  8.883072e+04      0.008910        0.260221   \n",
       "min        0.000000  0.000000e+00  0.000000e+00      0.000000        0.000000   \n",
       "25%        0.000000  0.000000e+00  0.000000e+00      0.000000        0.000000   \n",
       "50%        0.000000  4.400000e+01  0.000000e+00      0.000000        0.000000   \n",
       "75%        0.000000  2.790000e+02  5.302500e+02      0.000000        0.000000   \n",
       "max    42862.000000  3.817091e+08  5.151385e+06      1.000000        3.000000   \n",
       "\n",
       "            urgent           hot  num_failed_logins     logged_in  \\\n",
       "count  25192.00000  25192.000000       25192.000000  25192.000000   \n",
       "mean       0.00004      0.198039           0.001191      0.394768   \n",
       "std        0.00630      2.154202           0.045418      0.488811   \n",
       "min        0.00000      0.000000           0.000000      0.000000   \n",
       "25%        0.00000      0.000000           0.000000      0.000000   \n",
       "50%        0.00000      0.000000           0.000000      0.000000   \n",
       "75%        0.00000      0.000000           0.000000      1.000000   \n",
       "max        1.00000     77.000000           4.000000      1.000000   \n",
       "\n",
       "       num_compromised  ...  dst_host_count  dst_host_srv_count  \\\n",
       "count     25192.000000  ...    25192.000000        25192.000000   \n",
       "mean          0.227850  ...      182.532074          115.063036   \n",
       "std          10.417352  ...       98.993895          110.646850   \n",
       "min           0.000000  ...        0.000000            0.000000   \n",
       "25%           0.000000  ...       84.000000           10.000000   \n",
       "50%           0.000000  ...      255.000000           61.000000   \n",
       "75%           0.000000  ...      255.000000          255.000000   \n",
       "max         884.000000  ...      255.000000          255.000000   \n",
       "\n",
       "       dst_host_same_srv_rate  dst_host_diff_srv_rate  \\\n",
       "count            25192.000000            25192.000000   \n",
       "mean                 0.519791                0.082539   \n",
       "std                  0.448944                0.187191   \n",
       "min                  0.000000                0.000000   \n",
       "25%                  0.050000                0.000000   \n",
       "50%                  0.510000                0.030000   \n",
       "75%                  1.000000                0.070000   \n",
       "max                  1.000000                1.000000   \n",
       "\n",
       "       dst_host_same_src_port_rate  dst_host_srv_diff_host_rate  \\\n",
       "count                 25192.000000                 25192.000000   \n",
       "mean                      0.147453                     0.031844   \n",
       "std                       0.308367                     0.110575   \n",
       "min                       0.000000                     0.000000   \n",
       "25%                       0.000000                     0.000000   \n",
       "50%                       0.000000                     0.000000   \n",
       "75%                       0.060000                     0.020000   \n",
       "max                       1.000000                     1.000000   \n",
       "\n",
       "       dst_host_serror_rate  dst_host_srv_serror_rate  dst_host_rerror_rate  \\\n",
       "count          25192.000000              25192.000000          25192.000000   \n",
       "mean               0.285800                  0.279846              0.117800   \n",
       "std                0.445316                  0.446075              0.305869   \n",
       "min                0.000000                  0.000000              0.000000   \n",
       "25%                0.000000                  0.000000              0.000000   \n",
       "50%                0.000000                  0.000000              0.000000   \n",
       "75%                1.000000                  1.000000              0.000000   \n",
       "max                1.000000                  1.000000              1.000000   \n",
       "\n",
       "       dst_host_srv_rerror_rate  \n",
       "count              25192.000000  \n",
       "mean                   0.118769  \n",
       "std                    0.317333  \n",
       "min                    0.000000  \n",
       "25%                    0.000000  \n",
       "50%                    0.000000  \n",
       "75%                    0.000000  \n",
       "max                    1.000000  \n",
       "\n",
       "[8 rows x 38 columns]"
      ]
     },
     "execution_count": 5,
     "metadata": {},
     "output_type": "execute_result"
    }
   ],
   "source": [
    "df_train.describe()"
   ]
  },
  {
   "cell_type": "code",
   "execution_count": 6,
   "id": "587450e7",
   "metadata": {
    "execution": {
     "iopub.execute_input": "2023-09-03T18:40:11.450780Z",
     "iopub.status.busy": "2023-09-03T18:40:11.450396Z",
     "iopub.status.idle": "2023-09-03T18:40:11.457956Z",
     "shell.execute_reply": "2023-09-03T18:40:11.456722Z"
    },
    "papermill": {
     "duration": 0.028465,
     "end_time": "2023-09-03T18:40:11.460629",
     "exception": false,
     "start_time": "2023-09-03T18:40:11.432164",
     "status": "completed"
    },
    "tags": []
   },
   "outputs": [
    {
     "data": {
      "text/plain": [
       "Index(['duration', 'protocol_type', 'service', 'flag', 'src_bytes',\n",
       "       'dst_bytes', 'land', 'wrong_fragment', 'urgent', 'hot',\n",
       "       'num_failed_logins', 'logged_in', 'num_compromised', 'root_shell',\n",
       "       'su_attempted', 'num_root', 'num_file_creations', 'num_shells',\n",
       "       'num_access_files', 'num_outbound_cmds', 'is_host_login',\n",
       "       'is_guest_login', 'count', 'srv_count', 'serror_rate',\n",
       "       'srv_serror_rate', 'rerror_rate', 'srv_rerror_rate', 'same_srv_rate',\n",
       "       'diff_srv_rate', 'srv_diff_host_rate', 'dst_host_count',\n",
       "       'dst_host_srv_count', 'dst_host_same_srv_rate',\n",
       "       'dst_host_diff_srv_rate', 'dst_host_same_src_port_rate',\n",
       "       'dst_host_srv_diff_host_rate', 'dst_host_serror_rate',\n",
       "       'dst_host_srv_serror_rate', 'dst_host_rerror_rate',\n",
       "       'dst_host_srv_rerror_rate', 'class'],\n",
       "      dtype='object')"
      ]
     },
     "execution_count": 6,
     "metadata": {},
     "output_type": "execute_result"
    }
   ],
   "source": [
    "df_train.columns"
   ]
  },
  {
   "cell_type": "code",
   "execution_count": 7,
   "id": "9d25b019",
   "metadata": {
    "execution": {
     "iopub.execute_input": "2023-09-03T18:40:11.498679Z",
     "iopub.status.busy": "2023-09-03T18:40:11.497846Z",
     "iopub.status.idle": "2023-09-03T18:40:11.544723Z",
     "shell.execute_reply": "2023-09-03T18:40:11.543798Z"
    },
    "papermill": {
     "duration": 0.069193,
     "end_time": "2023-09-03T18:40:11.547369",
     "exception": false,
     "start_time": "2023-09-03T18:40:11.478176",
     "status": "completed"
    },
    "tags": []
   },
   "outputs": [
    {
     "data": {
      "text/plain": [
       "duration                       0\n",
       "protocol_type                  0\n",
       "service                        0\n",
       "flag                           0\n",
       "src_bytes                      0\n",
       "dst_bytes                      0\n",
       "land                           0\n",
       "wrong_fragment                 0\n",
       "urgent                         0\n",
       "hot                            0\n",
       "num_failed_logins              0\n",
       "logged_in                      0\n",
       "num_compromised                0\n",
       "root_shell                     0\n",
       "su_attempted                   0\n",
       "num_root                       0\n",
       "num_file_creations             0\n",
       "num_shells                     0\n",
       "num_access_files               0\n",
       "num_outbound_cmds              0\n",
       "is_host_login                  0\n",
       "is_guest_login                 0\n",
       "count                          0\n",
       "srv_count                      0\n",
       "serror_rate                    0\n",
       "srv_serror_rate                0\n",
       "rerror_rate                    0\n",
       "srv_rerror_rate                0\n",
       "same_srv_rate                  0\n",
       "diff_srv_rate                  0\n",
       "srv_diff_host_rate             0\n",
       "dst_host_count                 0\n",
       "dst_host_srv_count             0\n",
       "dst_host_same_srv_rate         0\n",
       "dst_host_diff_srv_rate         0\n",
       "dst_host_same_src_port_rate    0\n",
       "dst_host_srv_diff_host_rate    0\n",
       "dst_host_serror_rate           0\n",
       "dst_host_srv_serror_rate       0\n",
       "dst_host_rerror_rate           0\n",
       "dst_host_srv_rerror_rate       0\n",
       "class                          0\n",
       "dtype: int64"
      ]
     },
     "execution_count": 7,
     "metadata": {},
     "output_type": "execute_result"
    }
   ],
   "source": [
    "# Examine the presence of null value in the provided data using isnull() methods\n",
    "df_train.isnull().sum()"
   ]
  },
  {
   "cell_type": "code",
   "execution_count": 8,
   "id": "aeb3154b",
   "metadata": {
    "execution": {
     "iopub.execute_input": "2023-09-03T18:40:11.586382Z",
     "iopub.status.busy": "2023-09-03T18:40:11.585379Z",
     "iopub.status.idle": "2023-09-03T18:40:11.593506Z",
     "shell.execute_reply": "2023-09-03T18:40:11.592640Z"
    },
    "papermill": {
     "duration": 0.030084,
     "end_time": "2023-09-03T18:40:11.595635",
     "exception": false,
     "start_time": "2023-09-03T18:40:11.565551",
     "status": "completed"
    },
    "tags": []
   },
   "outputs": [
    {
     "data": {
      "text/plain": [
       "Index(['duration', 'protocol_type', 'service', 'flag', 'src_bytes',\n",
       "       'dst_bytes', 'land', 'wrong_fragment', 'urgent', 'hot',\n",
       "       'num_failed_logins', 'logged_in', 'num_compromised', 'root_shell',\n",
       "       'su_attempted', 'num_root', 'num_file_creations', 'num_shells',\n",
       "       'num_access_files', 'num_outbound_cmds', 'is_host_login',\n",
       "       'is_guest_login', 'count', 'srv_count', 'serror_rate',\n",
       "       'srv_serror_rate', 'rerror_rate', 'srv_rerror_rate', 'same_srv_rate',\n",
       "       'diff_srv_rate', 'srv_diff_host_rate', 'dst_host_count',\n",
       "       'dst_host_srv_count', 'dst_host_same_srv_rate',\n",
       "       'dst_host_diff_srv_rate', 'dst_host_same_src_port_rate',\n",
       "       'dst_host_srv_diff_host_rate', 'dst_host_serror_rate',\n",
       "       'dst_host_srv_serror_rate', 'dst_host_rerror_rate',\n",
       "       'dst_host_srv_rerror_rate', 'class'],\n",
       "      dtype='object')"
      ]
     },
     "execution_count": 8,
     "metadata": {},
     "output_type": "execute_result"
    }
   ],
   "source": [
    "# observe the present columns in dt_train using columns methods\n",
    "df_train.columns"
   ]
  },
  {
   "cell_type": "code",
   "execution_count": 9,
   "id": "53f9488f",
   "metadata": {
    "execution": {
     "iopub.execute_input": "2023-09-03T18:40:11.632713Z",
     "iopub.status.busy": "2023-09-03T18:40:11.631933Z",
     "iopub.status.idle": "2023-09-03T18:40:11.640038Z",
     "shell.execute_reply": "2023-09-03T18:40:11.638763Z"
    },
    "papermill": {
     "duration": 0.029441,
     "end_time": "2023-09-03T18:40:11.642547",
     "exception": false,
     "start_time": "2023-09-03T18:40:11.613106",
     "status": "completed"
    },
    "tags": []
   },
   "outputs": [
    {
     "data": {
      "text/plain": [
       "Index(['duration', 'protocol_type', 'service', 'flag', 'src_bytes',\n",
       "       'dst_bytes', 'land', 'wrong_fragment', 'urgent', 'hot',\n",
       "       'num_failed_logins', 'logged_in', 'num_compromised', 'root_shell',\n",
       "       'su_attempted', 'num_root', 'num_file_creations', 'num_shells',\n",
       "       'num_access_files', 'num_outbound_cmds', 'is_host_login',\n",
       "       'is_guest_login', 'count', 'srv_count', 'serror_rate',\n",
       "       'srv_serror_rate', 'rerror_rate', 'srv_rerror_rate', 'same_srv_rate',\n",
       "       'diff_srv_rate', 'srv_diff_host_rate', 'dst_host_count',\n",
       "       'dst_host_srv_count', 'dst_host_same_srv_rate',\n",
       "       'dst_host_diff_srv_rate', 'dst_host_same_src_port_rate',\n",
       "       'dst_host_srv_diff_host_rate', 'dst_host_serror_rate',\n",
       "       'dst_host_srv_serror_rate', 'dst_host_rerror_rate',\n",
       "       'dst_host_srv_rerror_rate'],\n",
       "      dtype='object')"
      ]
     },
     "execution_count": 9,
     "metadata": {},
     "output_type": "execute_result"
    }
   ],
   "source": [
    "df_test.columns"
   ]
  },
  {
   "cell_type": "code",
   "execution_count": 10,
   "id": "be4a0ebb",
   "metadata": {
    "execution": {
     "iopub.execute_input": "2023-09-03T18:40:11.681183Z",
     "iopub.status.busy": "2023-09-03T18:40:11.680349Z",
     "iopub.status.idle": "2023-09-03T18:40:12.004413Z",
     "shell.execute_reply": "2023-09-03T18:40:12.003209Z"
    },
    "papermill": {
     "duration": 0.346326,
     "end_time": "2023-09-03T18:40:12.007058",
     "exception": false,
     "start_time": "2023-09-03T18:40:11.660732",
     "status": "completed"
    },
    "tags": []
   },
   "outputs": [
    {
     "data": {
      "text/plain": [
       "<Axes: xlabel='class', ylabel='count'>"
      ]
     },
     "execution_count": 10,
     "metadata": {},
     "output_type": "execute_result"
    },
    {
     "data": {
      "image/png": "[encoded data removed]",
      "text/plain": [
       "<Figure size 640x480 with 1 Axes>"
      ]
     },
     "metadata": {},
     "output_type": "display_data"
    }
   ],
   "source": [
    "# plot countplot using seaborn of class column of df_train\n",
    "sns.countplot(x=df_train[\"class\"], palette= \"Blues_d\")"
   ]
  },
  {
   "cell_type": "code",
   "execution_count": 11,
   "id": "9eb7a331",
   "metadata": {
    "execution": {
     "iopub.execute_input": "2023-09-03T18:40:12.046105Z",
     "iopub.status.busy": "2023-09-03T18:40:12.045421Z",
     "iopub.status.idle": "2023-09-03T18:40:12.120191Z",
     "shell.execute_reply": "2023-09-03T18:40:12.118657Z"
    },
    "papermill": {
     "duration": 0.097675,
     "end_time": "2023-09-03T18:40:12.123139",
     "exception": false,
     "start_time": "2023-09-03T18:40:12.025464",
     "status": "completed"
    },
    "tags": []
   },
   "outputs": [
    {
     "name": "stdout",
     "output_type": "stream",
     "text": [
      "label_encoding has been performed!!!\n"
     ]
    }
   ],
   "source": [
    "# write a function for a labelencoding\n",
    "def label_encoder(df):\n",
    "    \"\"\"This function change non-numerical labels to numerical labels\"\"\"\n",
    "    for col in df.columns:\n",
    "        if df[col].dtype == \"object\":\n",
    "            label_encoding = LabelEncoder()\n",
    "            df[col] = label_encoding.fit_transform(df[col])\n",
    "label_encoder(df_train)\n",
    "label_encoder(df_test)\n",
    "print(\"label_encoding has been performed!!!\")"
   ]
  },
  {
   "cell_type": "code",
   "execution_count": 12,
   "id": "0080da7e",
   "metadata": {
    "execution": {
     "iopub.execute_input": "2023-09-03T18:40:12.162282Z",
     "iopub.status.busy": "2023-09-03T18:40:12.161852Z",
     "iopub.status.idle": "2023-09-03T18:40:12.170566Z",
     "shell.execute_reply": "2023-09-03T18:40:12.169258Z"
    },
    "papermill": {
     "duration": 0.030974,
     "end_time": "2023-09-03T18:40:12.173016",
     "exception": false,
     "start_time": "2023-09-03T18:40:12.142042",
     "status": "completed"
    },
    "tags": []
   },
   "outputs": [],
   "source": [
    "# Segregating  class column from df_train using drop method\n",
    "X_train = df_train.drop([\"class\"], axis=1)\n",
    "Y_train = df_train[\"class\"]"
   ]
  },
  {
   "cell_type": "code",
   "execution_count": 13,
   "id": "3e077d8e",
   "metadata": {
    "execution": {
     "iopub.execute_input": "2023-09-03T18:40:12.213798Z",
     "iopub.status.busy": "2023-09-03T18:40:12.213388Z",
     "iopub.status.idle": "2023-09-03T18:41:24.421229Z",
     "shell.execute_reply": "2023-09-03T18:41:24.420020Z"
    },
    "papermill": {
     "duration": 72.250077,
     "end_time": "2023-09-03T18:41:24.441571",
     "exception": false,
     "start_time": "2023-09-03T18:40:12.191494",
     "status": "completed"
    },
    "tags": []
   },
   "outputs": [
    {
     "data": {
      "text/plain": [
       "['protocol_type',\n",
       " 'service',\n",
       " 'flag',\n",
       " 'src_bytes',\n",
       " 'dst_bytes',\n",
       " 'count',\n",
       " 'same_srv_rate',\n",
       " 'diff_srv_rate',\n",
       " 'dst_host_srv_count',\n",
       " 'dst_host_same_srv_rate']"
      ]
     },
     "execution_count": 13,
     "metadata": {},
     "output_type": "execute_result"
    }
   ],
   "source": [
    "#Defining the RandomForestClassifier\n",
    "rfc = RandomForestClassifier()\n",
    "rfe = RFE(rfc, n_features_to_select=10)\n",
    "rfe = rfe.fit(X_train, Y_train) \n",
    "\n",
    "feature_map = [(i, v) for i, v in itertools.zip_longest(rfe.get_support(), X_train.columns)]\n",
    "selected_features = [v for i, v in feature_map if i ==True]\n",
    "selected_features"
   ]
  },
  {
   "cell_type": "code",
   "execution_count": 14,
   "id": "7080d720",
   "metadata": {
    "execution": {
     "iopub.execute_input": "2023-09-03T18:41:24.479714Z",
     "iopub.status.busy": "2023-09-03T18:41:24.479314Z",
     "iopub.status.idle": "2023-09-03T18:41:24.485984Z",
     "shell.execute_reply": "2023-09-03T18:41:24.484943Z"
    },
    "papermill": {
     "duration": 0.028973,
     "end_time": "2023-09-03T18:41:24.488519",
     "exception": false,
     "start_time": "2023-09-03T18:41:24.459546",
     "status": "completed"
    },
    "tags": []
   },
   "outputs": [],
   "source": [
    "X_train = X_train[selected_features]"
   ]
  },
  {
   "cell_type": "code",
   "execution_count": 15,
   "id": "ec0aec0b",
   "metadata": {
    "execution": {
     "iopub.execute_input": "2023-09-03T18:41:24.526856Z",
     "iopub.status.busy": "2023-09-03T18:41:24.526147Z",
     "iopub.status.idle": "2023-09-03T18:41:24.563984Z",
     "shell.execute_reply": "2023-09-03T18:41:24.562195Z"
    },
    "papermill": {
     "duration": 0.060273,
     "end_time": "2023-09-03T18:41:24.566892",
     "exception": false,
     "start_time": "2023-09-03T18:41:24.506619",
     "status": "completed"
    },
    "tags": []
   },
   "outputs": [],
   "source": [
    "# standardizing the data using StandardScaler() function\n",
    "scale = StandardScaler()\n",
    "X_train = scale.fit_transform(X_train)\n",
    "test = scale.fit_transform(df_test)"
   ]
  },
  {
   "cell_type": "code",
   "execution_count": 16,
   "id": "48e46cb1",
   "metadata": {
    "execution": {
     "iopub.execute_input": "2023-09-03T18:41:24.605338Z",
     "iopub.status.busy": "2023-09-03T18:41:24.604940Z",
     "iopub.status.idle": "2023-09-03T18:41:24.616032Z",
     "shell.execute_reply": "2023-09-03T18:41:24.614494Z"
    },
    "papermill": {
     "duration": 0.033285,
     "end_time": "2023-09-03T18:41:24.618609",
     "exception": false,
     "start_time": "2023-09-03T18:41:24.585324",
     "status": "completed"
    },
    "tags": []
   },
   "outputs": [],
   "source": [
    "# Split the data into train and test group\n",
    "x_train, x_test, y_train, y_test = train_test_split(X_train, Y_train, train_size=0.70, \n",
    "                                                   random_state=3)"
   ]
  },
  {
   "cell_type": "code",
   "execution_count": 17,
   "id": "3ec438a1",
   "metadata": {
    "execution": {
     "iopub.execute_input": "2023-09-03T18:41:24.657409Z",
     "iopub.status.busy": "2023-09-03T18:41:24.656917Z",
     "iopub.status.idle": "2023-09-03T18:41:24.664389Z",
     "shell.execute_reply": "2023-09-03T18:41:24.663193Z"
    },
    "papermill": {
     "duration": 0.029661,
     "end_time": "2023-09-03T18:41:24.666696",
     "exception": false,
     "start_time": "2023-09-03T18:41:24.637035",
     "status": "completed"
    },
    "tags": []
   },
   "outputs": [
    {
     "data": {
      "text/plain": [
       "((17634, 10), (7558, 10))"
      ]
     },
     "execution_count": 17,
     "metadata": {},
     "output_type": "execute_result"
    }
   ],
   "source": [
    "x_train.shape, x_test.shape"
   ]
  },
  {
   "cell_type": "code",
   "execution_count": 18,
   "id": "d55838e4",
   "metadata": {
    "execution": {
     "iopub.execute_input": "2023-09-03T18:41:24.706035Z",
     "iopub.status.busy": "2023-09-03T18:41:24.705469Z",
     "iopub.status.idle": "2023-09-03T18:41:24.710994Z",
     "shell.execute_reply": "2023-09-03T18:41:24.709687Z"
    },
    "papermill": {
     "duration": 0.028268,
     "end_time": "2023-09-03T18:41:24.713264",
     "exception": false,
     "start_time": "2023-09-03T18:41:24.684996",
     "status": "completed"
    },
    "tags": []
   },
   "outputs": [],
   "source": [
    "###K-Nearest Neighbour"
   ]
  },
  {
   "cell_type": "code",
   "execution_count": 19,
   "id": "16c1f49f",
   "metadata": {
    "execution": {
     "iopub.execute_input": "2023-09-03T18:41:24.751596Z",
     "iopub.status.busy": "2023-09-03T18:41:24.751166Z",
     "iopub.status.idle": "2023-09-03T18:41:24.757145Z",
     "shell.execute_reply": "2023-09-03T18:41:24.755925Z"
    },
    "papermill": {
     "duration": 0.027822,
     "end_time": "2023-09-03T18:41:24.759496",
     "exception": false,
     "start_time": "2023-09-03T18:41:24.731674",
     "status": "completed"
    },
    "tags": []
   },
   "outputs": [],
   "source": [
    "# import the knn library from sklearn\n",
    "from sklearn import metrics \n",
    "from sklearn.neighbors import KNeighborsClassifier\n",
    "\n",
    "# Create/ Define knn model\n",
    "knn = KNeighborsClassifier(n_neighbors=25, metric=\"minkowski\")"
   ]
  },
  {
   "cell_type": "code",
   "execution_count": 20,
   "id": "fa6f3936",
   "metadata": {
    "execution": {
     "iopub.execute_input": "2023-09-03T18:41:24.798162Z",
     "iopub.status.busy": "2023-09-03T18:41:24.797718Z",
     "iopub.status.idle": "2023-09-03T18:41:24.828025Z",
     "shell.execute_reply": "2023-09-03T18:41:24.826804Z"
    },
    "papermill": {
     "duration": 0.052749,
     "end_time": "2023-09-03T18:41:24.830747",
     "exception": false,
     "start_time": "2023-09-03T18:41:24.777998",
     "status": "completed"
    },
    "tags": []
   },
   "outputs": [],
   "source": [
    "# Fit the generated knn model to intrusion detection data\n",
    "history = knn.fit(x_train, y_train)"
   ]
  },
  {
   "cell_type": "code",
   "execution_count": 21,
   "id": "80a56f3c",
   "metadata": {
    "execution": {
     "iopub.execute_input": "2023-09-03T18:41:24.870550Z",
     "iopub.status.busy": "2023-09-03T18:41:24.870127Z",
     "iopub.status.idle": "2023-09-03T18:41:25.774580Z",
     "shell.execute_reply": "2023-09-03T18:41:25.773439Z"
    },
    "papermill": {
     "duration": 0.927564,
     "end_time": "2023-09-03T18:41:25.777281",
     "exception": false,
     "start_time": "2023-09-03T18:41:24.849717",
     "status": "completed"
    },
    "tags": []
   },
   "outputs": [],
   "source": [
    "# Predict the category of the data intrusion detection\n",
    "knn_y_predict = knn.predict(x_test)"
   ]
  },
  {
   "cell_type": "code",
   "execution_count": 22,
   "id": "ca036509",
   "metadata": {
    "execution": {
     "iopub.execute_input": "2023-09-03T18:41:25.817312Z",
     "iopub.status.busy": "2023-09-03T18:41:25.816868Z",
     "iopub.status.idle": "2023-09-03T18:41:25.869203Z",
     "shell.execute_reply": "2023-09-03T18:41:25.867890Z"
    },
    "papermill": {
     "duration": 0.076208,
     "end_time": "2023-09-03T18:41:25.871916",
     "exception": false,
     "start_time": "2023-09-03T18:41:25.795708",
     "status": "completed"
    },
    "tags": []
   },
   "outputs": [
    {
     "name": "stdout",
     "output_type": "stream",
     "text": [
      "imported\n"
     ]
    }
   ],
   "source": [
    "# importing libraries and modules\n",
    "from mlxtend.plotting import plot_confusion_matrix\n",
    "from sklearn.metrics import confusion_matrix, ConfusionMatrixDisplay\n",
    "print(\"imported\")"
   ]
  },
  {
   "cell_type": "code",
   "execution_count": 23,
   "id": "88ebfa09",
   "metadata": {
    "execution": {
     "iopub.execute_input": "2023-09-03T18:41:25.912890Z",
     "iopub.status.busy": "2023-09-03T18:41:25.912446Z",
     "iopub.status.idle": "2023-09-03T18:41:26.176755Z",
     "shell.execute_reply": "2023-09-03T18:41:26.175917Z"
    },
    "papermill": {
     "duration": 0.288525,
     "end_time": "2023-09-03T18:41:26.179492",
     "exception": false,
     "start_time": "2023-09-03T18:41:25.890967",
     "status": "completed"
    },
    "tags": []
   },
   "outputs": [
    {
     "name": "stdout",
     "output_type": "stream",
     "text": [
      "[[3445  137]\n",
      " [  85 3891]]\n"
     ]
    },
    {
     "data": {
      "image/png": "[encoded data removed]",
      "text/plain": [
       "<Figure size 700x700 with 1 Axes>"
      ]
     },
     "metadata": {},
     "output_type": "display_data"
    }
   ],
   "source": [
    "# compute and plot confusion matrix \n",
    "confusion_mat = confusion_matrix(y_test, knn_y_predict)\n",
    "class_name = [\"Normal\", \"Abnormal\"]\n",
    "plot_confusion_matrix(conf_mat=confusion_mat, class_names=class_name, show_normed=True, \n",
    "                      figsize=(7,7))\n",
    "print(confusion_mat)"
   ]
  },
  {
   "cell_type": "code",
   "execution_count": 24,
   "id": "70f0d3f9",
   "metadata": {
    "execution": {
     "iopub.execute_input": "2023-09-03T18:41:26.221138Z",
     "iopub.status.busy": "2023-09-03T18:41:26.218795Z",
     "iopub.status.idle": "2023-09-03T18:41:26.249541Z",
     "shell.execute_reply": "2023-09-03T18:41:26.248178Z"
    },
    "papermill": {
     "duration": 0.053836,
     "end_time": "2023-09-03T18:41:26.252258",
     "exception": false,
     "start_time": "2023-09-03T18:41:26.198422",
     "status": "completed"
    },
    "tags": []
   },
   "outputs": [
    {
     "name": "stdout",
     "output_type": "stream",
     "text": [
      "              precision    recall  f1-score   support\n",
      "\n",
      "           0       0.98      0.96      0.97      3582\n",
      "           1       0.97      0.98      0.97      3976\n",
      "\n",
      "    accuracy                           0.97      7558\n",
      "   macro avg       0.97      0.97      0.97      7558\n",
      "weighted avg       0.97      0.97      0.97      7558\n",
      "\n",
      "The accuracy score of KNN model is : 0.970627150039693\n"
     ]
    }
   ],
   "source": [
    "# classification report \n",
    "from sklearn.metrics import classification_report \n",
    "cr = classification_report(y_test, knn_y_predict)\n",
    "print(cr)\n",
    "# Accuracy score of knn model\n",
    "\n",
    "from sklearn.metrics import accuracy_score\n",
    "knn_accuracy_score = accuracy_score(y_test, knn_y_predict)\n",
    "print(f\"The accuracy score of KNN model is : {knn_accuracy_score}\")\n"
   ]
  },
  {
   "cell_type": "code",
   "execution_count": 25,
   "id": "e3e52eb4",
   "metadata": {
    "execution": {
     "iopub.execute_input": "2023-09-03T18:41:26.294289Z",
     "iopub.status.busy": "2023-09-03T18:41:26.293500Z",
     "iopub.status.idle": "2023-09-03T18:41:26.309692Z",
     "shell.execute_reply": "2023-09-03T18:41:26.308288Z"
    },
    "papermill": {
     "duration": 0.040585,
     "end_time": "2023-09-03T18:41:26.312479",
     "exception": false,
     "start_time": "2023-09-03T18:41:26.271894",
     "status": "completed"
    },
    "tags": []
   },
   "outputs": [
    {
     "name": "stdout",
     "output_type": "stream",
     "text": [
      "Error Rate of KNN model is : 0.02937284996030698\n",
      "Sensitivity of KNN model is : 0.970627150039693\n",
      "Specificity of KNN model is : 0.9786217303822937\n"
     ]
    }
   ],
   "source": [
    "# compute the error rate\n",
    "error_rate = 1.0 -  knn_accuracy_score  # another way er = 1 - metrics.accuracy_score(y_test,knn_y_predict)\n",
    "print(\"Error Rate of KNN model is :\", error_rate)\n",
    "\n",
    "# Calculate the sensitivity of knn model\n",
    "sensitivity = metrics.recall_score(y_test,knn_y_predict,average='weighted')\n",
    "print(\"Sensitivity of KNN model is :\", sensitivity)\n",
    "\n",
    "\n",
    "# defining a function to calculate specificity of knn model\n",
    "def compute_specificity(y_test, knn_y_predict, class_label):\n",
    "    \"\"\"This function will calculate the specificity of KNN model\"\"\"\n",
    "    true_negative = np.sum((y_test != class_label) & (knn_y_predict != class_label))\n",
    "    false_positive = np.sum((y_test != class_label) & (knn_y_predict == class_label))\n",
    "    specificity_knn = true_negative / (true_negative + false_positive)\n",
    "    return specificity_knn\n",
    "\n",
    "class_label = 0 \n",
    "specificity_knn = compute_specificity(y_test, knn_y_predict, class_label)\n",
    "print(\"Specificity of KNN model is :\", specificity_knn)"
   ]
  },
  {
   "cell_type": "code",
   "execution_count": 26,
   "id": "d6f0ec5d",
   "metadata": {
    "execution": {
     "iopub.execute_input": "2023-09-03T18:41:26.353544Z",
     "iopub.status.busy": "2023-09-03T18:41:26.353108Z",
     "iopub.status.idle": "2023-09-03T18:41:26.358115Z",
     "shell.execute_reply": "2023-09-03T18:41:26.356703Z"
    },
    "papermill": {
     "duration": 0.028338,
     "end_time": "2023-09-03T18:41:26.360516",
     "exception": false,
     "start_time": "2023-09-03T18:41:26.332178",
     "status": "completed"
    },
    "tags": []
   },
   "outputs": [],
   "source": [
    "### SUPPORT VECTOR MACHINE (SVC)"
   ]
  },
  {
   "cell_type": "code",
   "execution_count": 27,
   "id": "673db2d1",
   "metadata": {
    "execution": {
     "iopub.execute_input": "2023-09-03T18:41:26.402430Z",
     "iopub.status.busy": "2023-09-03T18:41:26.401226Z",
     "iopub.status.idle": "2023-09-03T18:41:32.209567Z",
     "shell.execute_reply": "2023-09-03T18:41:32.208057Z"
    },
    "papermill": {
     "duration": 5.832335,
     "end_time": "2023-09-03T18:41:32.212522",
     "exception": false,
     "start_time": "2023-09-03T18:41:26.380187",
     "status": "completed"
    },
    "tags": []
   },
   "outputs": [],
   "source": [
    "# import SVC library\n",
    "from sklearn.svm import SVC\n",
    "\n",
    "# create support vector machine model\n",
    "svc = SVC(kernel=\"linear\", random_state=0)\n",
    "\n",
    "# fit the generated svc model to network intrusion detection data\n",
    "svc.fit(x_train, y_train)\n",
    "\n",
    "# estimate the prediction of network intrusion\n",
    "svc_y_predict = svc.predict(x_test)"
   ]
  },
  {
   "cell_type": "code",
   "execution_count": 28,
   "id": "c9af8cde",
   "metadata": {
    "execution": {
     "iopub.execute_input": "2023-09-03T18:41:32.253177Z",
     "iopub.status.busy": "2023-09-03T18:41:32.252300Z",
     "iopub.status.idle": "2023-09-03T18:41:32.497748Z",
     "shell.execute_reply": "2023-09-03T18:41:32.496581Z"
    },
    "papermill": {
     "duration": 0.269107,
     "end_time": "2023-09-03T18:41:32.500923",
     "exception": false,
     "start_time": "2023-09-03T18:41:32.231816",
     "status": "completed"
    },
    "tags": []
   },
   "outputs": [
    {
     "name": "stdout",
     "output_type": "stream",
     "text": [
      "imported\n",
      "[[3236  346]\n",
      " [ 151 3825]]\n"
     ]
    },
    {
     "data": {
      "image/png": "[encoded data removed]",
      "text/plain": [
       "<Figure size 700x700 with 1 Axes>"
      ]
     },
     "metadata": {},
     "output_type": "display_data"
    }
   ],
   "source": [
    "# importing libraries and modules\n",
    "from mlxtend.plotting import plot_confusion_matrix\n",
    "from sklearn.metrics import confusion_matrix, ConfusionMatrixDisplay\n",
    "print(\"imported\")\n",
    "\n",
    "# compute and plot confusion matrix \n",
    "confusion_mat = confusion_matrix(y_test,svc_y_predict)\n",
    "class_name = [\"Normal\", \"Abnormal\"]\n",
    "plot_confusion_matrix(conf_mat=confusion_mat, class_names=class_name, show_normed=True, \n",
    "                      figsize=(7,7))\n",
    "print(confusion_mat)"
   ]
  },
  {
   "cell_type": "code",
   "execution_count": 29,
   "id": "62b1640c",
   "metadata": {
    "execution": {
     "iopub.execute_input": "2023-09-03T18:41:32.544114Z",
     "iopub.status.busy": "2023-09-03T18:41:32.543661Z",
     "iopub.status.idle": "2023-09-03T18:41:32.576518Z",
     "shell.execute_reply": "2023-09-03T18:41:32.574934Z"
    },
    "papermill": {
     "duration": 0.057723,
     "end_time": "2023-09-03T18:41:32.579401",
     "exception": false,
     "start_time": "2023-09-03T18:41:32.521678",
     "status": "completed"
    },
    "tags": []
   },
   "outputs": [
    {
     "name": "stdout",
     "output_type": "stream",
     "text": [
      "              precision    recall  f1-score   support\n",
      "\n",
      "           0       0.96      0.90      0.93      3582\n",
      "           1       0.92      0.96      0.94      3976\n",
      "\n",
      "    accuracy                           0.93      7558\n",
      "   macro avg       0.94      0.93      0.93      7558\n",
      "weighted avg       0.94      0.93      0.93      7558\n",
      "\n",
      "The accuracy score of SVC model is : 0.9342418629267002\n"
     ]
    }
   ],
   "source": [
    "# classification report \n",
    "from sklearn.metrics import classification_report \n",
    "cr = classification_report(y_test, svc_y_predict)\n",
    "print(cr)\n",
    "# Accuracy score of knn model\n",
    "\n",
    "from sklearn.metrics import accuracy_score\n",
    "svc_accuracy_score = accuracy_score(y_test, svc_y_predict)\n",
    "print(f\"The accuracy score of SVC model is : {svc_accuracy_score}\")\n"
   ]
  },
  {
   "cell_type": "code",
   "execution_count": 30,
   "id": "100660d7",
   "metadata": {
    "execution": {
     "iopub.execute_input": "2023-09-03T18:41:32.622989Z",
     "iopub.status.busy": "2023-09-03T18:41:32.622559Z",
     "iopub.status.idle": "2023-09-03T18:41:32.638441Z",
     "shell.execute_reply": "2023-09-03T18:41:32.637029Z"
    },
    "papermill": {
     "duration": 0.040581,
     "end_time": "2023-09-03T18:41:32.641180",
     "exception": false,
     "start_time": "2023-09-03T18:41:32.600599",
     "status": "completed"
    },
    "tags": []
   },
   "outputs": [
    {
     "name": "stdout",
     "output_type": "stream",
     "text": [
      "Error Rate of SVC model is : 0.0657581370732998\n",
      "Sensitivity of SVC model is : 0.970627150039693\n",
      "Specificity of SVC model is : 0.9620221327967807\n"
     ]
    }
   ],
   "source": [
    "# compute the error rate\n",
    "error_rate = 1.0 -  svc_accuracy_score  # another way er = 1 - metrics.accuracy_score(y_test,knn_y_predict)\n",
    "print(\"Error Rate of SVC model is :\", error_rate)\n",
    "\n",
    "# Calculate the sensitivity of SVC model\n",
    "sensitivity = metrics.recall_score(y_test,knn_y_predict,average='weighted')\n",
    "print(\"Sensitivity of SVC model is :\", sensitivity)\n",
    "\n",
    "\n",
    "# defining a function to calculate specificity of svc model\n",
    "def compute_specificity(y_test, svc_y_predict, class_label):\n",
    "    \"\"\"This function will calculate the specificity of SVC model\"\"\"\n",
    "    true_negative = np.sum((y_test != class_label) & (svc_y_predict != class_label))\n",
    "    false_positive = np.sum((y_test != class_label) & (svc_y_predict == class_label))\n",
    "    specificity_svc = true_negative / (true_negative + false_positive)\n",
    "    return specificity_svc\n",
    "\n",
    "class_label = 0 \n",
    "specificity_svc = compute_specificity(y_test, svc_y_predict, class_label)\n",
    "print(\"Specificity of SVC model is :\", specificity_svc)"
   ]
  },
  {
   "cell_type": "code",
   "execution_count": 31,
   "id": "5b64c723",
   "metadata": {
    "execution": {
     "iopub.execute_input": "2023-09-03T18:41:32.685463Z",
     "iopub.status.busy": "2023-09-03T18:41:32.684761Z",
     "iopub.status.idle": "2023-09-03T18:41:32.689870Z",
     "shell.execute_reply": "2023-09-03T18:41:32.688337Z"
    },
    "papermill": {
     "duration": 0.029993,
     "end_time": "2023-09-03T18:41:32.692393",
     "exception": false,
     "start_time": "2023-09-03T18:41:32.662400",
     "status": "completed"
    },
    "tags": []
   },
   "outputs": [],
   "source": [
    "###GRADIENT BOOST (GB) "
   ]
  },
  {
   "cell_type": "code",
   "execution_count": 32,
   "id": "e16334ab",
   "metadata": {
    "execution": {
     "iopub.execute_input": "2023-09-03T18:41:32.735545Z",
     "iopub.status.busy": "2023-09-03T18:41:32.734873Z",
     "iopub.status.idle": "2023-09-03T18:41:34.655047Z",
     "shell.execute_reply": "2023-09-03T18:41:34.653634Z"
    },
    "papermill": {
     "duration": 1.944922,
     "end_time": "2023-09-03T18:41:34.658178",
     "exception": false,
     "start_time": "2023-09-03T18:41:32.713256",
     "status": "completed"
    },
    "tags": []
   },
   "outputs": [
    {
     "name": "stdout",
     "output_type": "stream",
     "text": [
      "imported\n"
     ]
    }
   ],
   "source": [
    "# import library\n",
    "from sklearn.ensemble import GradientBoostingClassifier\n",
    "from sklearn.metrics import recall_score\n",
    "print(\"imported\")\n",
    "\n",
    "# create the model\n",
    "gb = GradientBoostingClassifier()\n",
    "\n",
    "# fit the data to the generated model\n",
    "gb.fit(x_train, y_train)\n",
    "\n",
    "# estimate the prediction\n",
    "gb_y_predict = gb.predict(x_test)"
   ]
  },
  {
   "cell_type": "code",
   "execution_count": 33,
   "id": "e3706b46",
   "metadata": {
    "execution": {
     "iopub.execute_input": "2023-09-03T18:41:34.701760Z",
     "iopub.status.busy": "2023-09-03T18:41:34.701340Z",
     "iopub.status.idle": "2023-09-03T18:41:34.898418Z",
     "shell.execute_reply": "2023-09-03T18:41:34.896865Z"
    },
    "papermill": {
     "duration": 0.223196,
     "end_time": "2023-09-03T18:41:34.902389",
     "exception": false,
     "start_time": "2023-09-03T18:41:34.679193",
     "status": "completed"
    },
    "tags": []
   },
   "outputs": [
    {
     "name": "stdout",
     "output_type": "stream",
     "text": [
      "imported\n",
      "[[3553   29]\n",
      " [  20 3956]]\n"
     ]
    },
    {
     "data": {
      "image/png": "[encoded data removed]",
      "text/plain": [
       "<Figure size 700x700 with 1 Axes>"
      ]
     },
     "metadata": {},
     "output_type": "display_data"
    }
   ],
   "source": [
    "# importing libraries and modules\n",
    "from mlxtend.plotting import plot_confusion_matrix\n",
    "from sklearn.metrics import confusion_matrix, ConfusionMatrixDisplay\n",
    "print(\"imported\")\n",
    "\n",
    "# compute and plot confusion matrix \n",
    "confusion_mat = confusion_matrix(y_test,gb_y_predict)\n",
    "class_name = [\"Normal\", \"Abnormal\"]\n",
    "plot_confusion_matrix(conf_mat=confusion_mat, class_names=class_name, show_normed=True, \n",
    "                      figsize=(7,7))\n",
    "print(confusion_mat)"
   ]
  },
  {
   "cell_type": "code",
   "execution_count": 34,
   "id": "bd76248b",
   "metadata": {
    "execution": {
     "iopub.execute_input": "2023-09-03T18:41:34.968360Z",
     "iopub.status.busy": "2023-09-03T18:41:34.967433Z",
     "iopub.status.idle": "2023-09-03T18:41:34.996102Z",
     "shell.execute_reply": "2023-09-03T18:41:34.995104Z"
    },
    "papermill": {
     "duration": 0.05357,
     "end_time": "2023-09-03T18:41:34.999000",
     "exception": false,
     "start_time": "2023-09-03T18:41:34.945430",
     "status": "completed"
    },
    "tags": []
   },
   "outputs": [
    {
     "name": "stdout",
     "output_type": "stream",
     "text": [
      "              precision    recall  f1-score   support\n",
      "\n",
      "           0       0.99      0.99      0.99      3582\n",
      "           1       0.99      0.99      0.99      3976\n",
      "\n",
      "    accuracy                           0.99      7558\n",
      "   macro avg       0.99      0.99      0.99      7558\n",
      "weighted avg       0.99      0.99      0.99      7558\n",
      "\n",
      "The accuracy score of GB model is : 0.9935168033871394\n"
     ]
    }
   ],
   "source": [
    "# classification report \n",
    "from sklearn.metrics import classification_report \n",
    "cr = classification_report(y_test, gb_y_predict)\n",
    "print(cr)\n",
    "# Accuracy score of knn model\n",
    "\n",
    "from sklearn.metrics import accuracy_score\n",
    "gb_accuracy_score = accuracy_score(y_test, gb_y_predict)\n",
    "print(f\"The accuracy score of GB model is : {gb_accuracy_score}\")"
   ]
  },
  {
   "cell_type": "code",
   "execution_count": 35,
   "id": "b6fc76f8",
   "metadata": {
    "execution": {
     "iopub.execute_input": "2023-09-03T18:41:35.042582Z",
     "iopub.status.busy": "2023-09-03T18:41:35.042150Z",
     "iopub.status.idle": "2023-09-03T18:41:35.058479Z",
     "shell.execute_reply": "2023-09-03T18:41:35.057048Z"
    },
    "papermill": {
     "duration": 0.040918,
     "end_time": "2023-09-03T18:41:35.060899",
     "exception": false,
     "start_time": "2023-09-03T18:41:35.019981",
     "status": "completed"
    },
    "tags": []
   },
   "outputs": [
    {
     "name": "stdout",
     "output_type": "stream",
     "text": [
      "Error Rate of GB model is : 0.0064831966128605645\n",
      "Sensitivity of GB model is : 0.9935168033871394\n",
      "Specificity of GB model is : 0.9949698189134809\n"
     ]
    }
   ],
   "source": [
    "# compute the error rate\n",
    "error_rate = 1.0 -  gb_accuracy_score  # another way er = 1 - metrics.accuracy_score(y_test,gb_y_predict)\n",
    "print(\"Error Rate of GB model is :\", error_rate)\n",
    "\n",
    "# Calculate the sensitivity of gb model\n",
    "sensitivity = metrics.recall_score(y_test,gb_y_predict,average='weighted')\n",
    "print(\"Sensitivity of GB model is :\", sensitivity)\n",
    "\n",
    "\n",
    "# defining a function to calculate specificity of gb model\n",
    "def compute_specificity(y_test, gb_y_predict, class_label):\n",
    "    \"\"\"This function will calculate the specificity of gb model\"\"\"\n",
    "    true_negative = np.sum((y_test != class_label) & (gb_y_predict != class_label))\n",
    "    false_positive = np.sum((y_test != class_label) & (gb_y_predict == class_label))\n",
    "    specificity_svc = true_negative / (true_negative + false_positive)\n",
    "    return specificity_svc\n",
    "\n",
    "class_label = 0 \n",
    "specificity_gb = compute_specificity(y_test, gb_y_predict, class_label)\n",
    "print(\"Specificity of GB model is :\", specificity_gb)"
   ]
  },
  {
   "cell_type": "code",
   "execution_count": 36,
   "id": "d924da6d",
   "metadata": {
    "execution": {
     "iopub.execute_input": "2023-09-03T18:41:35.105805Z",
     "iopub.status.busy": "2023-09-03T18:41:35.105111Z",
     "iopub.status.idle": "2023-09-03T18:41:35.110302Z",
     "shell.execute_reply": "2023-09-03T18:41:35.109084Z"
    },
    "papermill": {
     "duration": 0.031008,
     "end_time": "2023-09-03T18:41:35.112893",
     "exception": false,
     "start_time": "2023-09-03T18:41:35.081885",
     "status": "completed"
    },
    "tags": []
   },
   "outputs": [],
   "source": [
    "### RANDOM FOREST CLASSIFIERS (RFC)\n"
   ]
  },
  {
   "cell_type": "code",
   "execution_count": 37,
   "id": "ab390b7b",
   "metadata": {
    "execution": {
     "iopub.execute_input": "2023-09-03T18:41:35.157495Z",
     "iopub.status.busy": "2023-09-03T18:41:35.157068Z",
     "iopub.status.idle": "2023-09-03T18:41:35.900724Z",
     "shell.execute_reply": "2023-09-03T18:41:35.899419Z"
    },
    "papermill": {
     "duration": 0.769345,
     "end_time": "2023-09-03T18:41:35.903557",
     "exception": false,
     "start_time": "2023-09-03T18:41:35.134212",
     "status": "completed"
    },
    "tags": []
   },
   "outputs": [
    {
     "name": "stdout",
     "output_type": "stream",
     "text": [
      "imported\n"
     ]
    }
   ],
   "source": [
    "# import library\n",
    "from sklearn.ensemble import RandomForestClassifier\n",
    "print(\"imported\")\n",
    "\n",
    "# Create the RandomForestClassifier\n",
    "r_clf = RandomForestClassifier(n_estimators=50)\n",
    "\n",
    "# fit the generated model to data\n",
    "r_clf.fit(x_train,y_train)\n",
    "\n",
    "# estimate the prediction\n",
    "rfc_y_predict = r_clf.predict(x_test)\n"
   ]
  },
  {
   "cell_type": "code",
   "execution_count": 38,
   "id": "464be3af",
   "metadata": {
    "execution": {
     "iopub.execute_input": "2023-09-03T18:41:35.948747Z",
     "iopub.status.busy": "2023-09-03T18:41:35.948310Z",
     "iopub.status.idle": "2023-09-03T18:41:36.203982Z",
     "shell.execute_reply": "2023-09-03T18:41:36.202590Z"
    },
    "papermill": {
     "duration": 0.281507,
     "end_time": "2023-09-03T18:41:36.206819",
     "exception": false,
     "start_time": "2023-09-03T18:41:35.925312",
     "status": "completed"
    },
    "tags": []
   },
   "outputs": [
    {
     "name": "stdout",
     "output_type": "stream",
     "text": [
      "imported\n",
      "[[3568   14]\n",
      " [  10 3966]]\n"
     ]
    },
    {
     "data": {
      "image/png": "[encoded data removed]",
      "text/plain": [
       "<Figure size 700x700 with 1 Axes>"
      ]
     },
     "metadata": {},
     "output_type": "display_data"
    }
   ],
   "source": [
    "# importing libraries and modules\n",
    "from mlxtend.plotting import plot_confusion_matrix\n",
    "from sklearn.metrics import confusion_matrix, ConfusionMatrixDisplay\n",
    "print(\"imported\")\n",
    "\n",
    "# compute and plot confusion matrix \n",
    "confusion_mat = confusion_matrix(y_test,rfc_y_predict)\n",
    "class_name = [\"Normal\", \"Abnormal\"]\n",
    "plot_confusion_matrix(conf_mat=confusion_mat, class_names=class_name, show_normed=True, \n",
    "                      figsize=(7,7))\n",
    "print(confusion_mat)"
   ]
  },
  {
   "cell_type": "code",
   "execution_count": 39,
   "id": "2ef6db22",
   "metadata": {
    "execution": {
     "iopub.execute_input": "2023-09-03T18:41:36.254768Z",
     "iopub.status.busy": "2023-09-03T18:41:36.253632Z",
     "iopub.status.idle": "2023-09-03T18:41:36.286635Z",
     "shell.execute_reply": "2023-09-03T18:41:36.285263Z"
    },
    "papermill": {
     "duration": 0.059663,
     "end_time": "2023-09-03T18:41:36.289606",
     "exception": false,
     "start_time": "2023-09-03T18:41:36.229943",
     "status": "completed"
    },
    "tags": []
   },
   "outputs": [
    {
     "name": "stdout",
     "output_type": "stream",
     "text": [
      "              precision    recall  f1-score   support\n",
      "\n",
      "           0       1.00      1.00      1.00      3582\n",
      "           1       1.00      1.00      1.00      3976\n",
      "\n",
      "    accuracy                           1.00      7558\n",
      "   macro avg       1.00      1.00      1.00      7558\n",
      "weighted avg       1.00      1.00      1.00      7558\n",
      "\n",
      "The accuracy score of RFC model is : 0.9968245567610479\n"
     ]
    }
   ],
   "source": [
    "# classification report \n",
    "from sklearn.metrics import classification_report \n",
    "cr = classification_report(y_test, rfc_y_predict)\n",
    "print(cr)\n",
    "# Accuracy score of rfc model\n",
    "\n",
    "from sklearn.metrics import accuracy_score\n",
    "rfc_accuracy_score = accuracy_score(y_test, rfc_y_predict)\n",
    "print(f\"The accuracy score of RFC model is : {rfc_accuracy_score}\")"
   ]
  },
  {
   "cell_type": "code",
   "execution_count": 40,
   "id": "74fd3c97",
   "metadata": {
    "execution": {
     "iopub.execute_input": "2023-09-03T18:41:36.337075Z",
     "iopub.status.busy": "2023-09-03T18:41:36.335702Z",
     "iopub.status.idle": "2023-09-03T18:41:36.352595Z",
     "shell.execute_reply": "2023-09-03T18:41:36.351228Z"
    },
    "papermill": {
     "duration": 0.043267,
     "end_time": "2023-09-03T18:41:36.355271",
     "exception": false,
     "start_time": "2023-09-03T18:41:36.312004",
     "status": "completed"
    },
    "tags": []
   },
   "outputs": [
    {
     "name": "stdout",
     "output_type": "stream",
     "text": [
      "Error Rate of RFC model is : 0.003175443238952136\n",
      "Sensitivity of RFC model is : 0.9968245567610479\n",
      "Specificity of RFC model is : 0.9974849094567404\n"
     ]
    }
   ],
   "source": [
    "# compute the error rate\n",
    "error_rate = 1.0 -  rfc_accuracy_score  # another way er = 1 - metrics.accuracy_score(y_test,rfc_y_predict)\n",
    "print(\"Error Rate of RFC model is :\", error_rate)\n",
    "\n",
    "# Calculate the sensitivity of RFC model\n",
    "sensitivity = metrics.recall_score(y_test,rfc_y_predict,average='weighted')\n",
    "print(\"Sensitivity of RFC model is :\", sensitivity)\n",
    "\n",
    "\n",
    "# defining a function to calculate specificity of rfc model\n",
    "def compute_specificity(y_test, rfc_y_predict, class_label):\n",
    "    \"\"\"This function will calculate the specificity of rfc model\"\"\"\n",
    "    true_negative = np.sum((y_test != class_label) & (rfc_y_predict != class_label))\n",
    "    false_positive = np.sum((y_test != class_label) & (rfc_y_predict == class_label))\n",
    "    specificity_rfc = true_negative / (true_negative + false_positive)\n",
    "    return specificity_rfc\n",
    "\n",
    "class_label = 0 \n",
    "specificity_rfc = compute_specificity(y_test, rfc_y_predict, class_label)\n",
    "print(\"Specificity of RFC model is :\", specificity_rfc)"
   ]
  }
 ],
 "kernelspec": {
  "display_name": "Python 3",
  "language": "python",
  "name": "python3"
 },
 "language_info": {
  "codemirror_mode": {
   "name": "ipython",
   "version": 3
  },
  "file_extension": ".py",
  "mimetype": "text/x-python",
  "name": "python",
  "nbconvert_exporter": "python",
  "pygments_lexer": "ipython3",
  "version": "3.6.4"
 },
 "metadata": {
  "kernelspec": {
   "display_name": "Python 3",
   "language": "python",
   "name": "python3"
  },
  "language_info": {
   "codemirror_mode": {
    "name": "ipython",
    "version": 3
   },
   "file_extension": ".py",
   "mimetype": "text/x-python",
   "name": "python",
   "nbconvert_exporter": "python",
   "pygments_lexer": "ipython3",
   "version": "3.10.12"
  },
  "papermill": {
   "default_parameters": {},
   "duration": 103.845218,
   "end_time": "2023-09-03T18:41:37.602124",
   "environment_variables": {},
   "exception": null,
   "input_path": "__notebook__.ipynb",
   "output_path": "__notebook__.ipynb",
   "parameters": {},
   "start_time": "2023-09-03T18:39:53.756906",
   "version": "2.4.0"
  }
 },
 "nbformat": 4,
 "nbformat_minor": 5
}
