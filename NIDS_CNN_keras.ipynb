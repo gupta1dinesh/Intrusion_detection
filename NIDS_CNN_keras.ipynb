{
 "cells": [
  {
   "cell_type": "code",
   "execution_count": 1,
   "id": "d321b3ac",
   "metadata": {
    "_cell_guid": "b1076dfc-b9ad-4769-8c92-a6c4dae69d19",
    "_uuid": "8f2839f25d086af736a60e9eeb907d3b93b6e0e5",
    "execution": {
     "iopub.execute_input": "2023-10-08T15:16:14.877333Z",
     "iopub.status.busy": "2023-10-08T15:16:14.876619Z",
     "iopub.status.idle": "2023-10-08T15:16:15.304451Z",
     "shell.execute_reply": "2023-10-08T15:16:15.302897Z"
    },
    "papermill": {
     "duration": 0.440294,
     "end_time": "2023-10-08T15:16:15.308244",
     "exception": false,
     "start_time": "2023-10-08T15:16:14.867950",
     "status": "completed"
    },
    "tags": []
   },
   "outputs": [
    {
     "name": "stdout",
     "output_type": "stream",
     "text": [
      "/kaggle/input/network-intrusion-detection/Train_data.csv\n",
      "/kaggle/input/network-intrusion-detection/Test_data.csv\n"
     ]
    }
   ],
   "source": [
    "\"\"\"Network intrusion detection system using CNN model and keras\"\"\"\n",
    "\n",
    "# @author: Richard (Dinesh Kumar Gupta)\n",
    "\n",
    "import os\n",
    "for dirname, _, filenames in os.walk('/kaggle/input'):\n",
    "    for filename in filenames:\n",
    "        print(os.path.join(dirname, filename))\n"
   ]
  },
  {
   "cell_type": "code",
   "execution_count": 2,
   "id": "e69ca6c1",
   "metadata": {
    "execution": {
     "iopub.execute_input": "2023-10-08T15:16:15.326970Z",
     "iopub.status.busy": "2023-10-08T15:16:15.326443Z",
     "iopub.status.idle": "2023-10-08T15:16:26.258699Z",
     "shell.execute_reply": "2023-10-08T15:16:26.257664Z"
    },
    "papermill": {
     "duration": 10.943809,
     "end_time": "2023-10-08T15:16:26.261111",
     "exception": false,
     "start_time": "2023-10-08T15:16:15.317302",
     "status": "completed"
    },
    "tags": []
   },
   "outputs": [
    {
     "name": "stdout",
     "output_type": "stream",
     "text": [
      "Libraries has been imported\n"
     ]
    }
   ],
   "source": [
    "# Importing the important libraries\n",
    "import numpy as np\n",
    "import pandas as pd\n",
    "import matplotlib.pyplot as plt\n",
    "import seaborn as sns\n",
    "import plotly.express as px\n",
    "%matplotlib inline\n",
    "\n",
    "from keras.layers import Dense, Dropout, BatchNormalization, Activation\n",
    "from keras.optimizers import Adam\n",
    "from keras.callbacks import EarlyStopping\n",
    "from keras.regularizers import l2\n",
    "from keras.models import Sequential\n",
    "\n",
    "from sklearn.model_selection import train_test_split\n",
    "from sklearn.preprocessing import LabelEncoder, StandardScaler, OneHotEncoder\n",
    "from sklearn.compose import ColumnTransformer\n",
    "print(\"Libraries has been imported\")"
   ]
  },
  {
   "cell_type": "code",
   "execution_count": 3,
   "id": "ae893635",
   "metadata": {
    "execution": {
     "iopub.execute_input": "2023-10-08T15:16:26.276441Z",
     "iopub.status.busy": "2023-10-08T15:16:26.275627Z",
     "iopub.status.idle": "2023-10-08T15:16:26.576754Z",
     "shell.execute_reply": "2023-10-08T15:16:26.575638Z"
    },
    "papermill": {
     "duration": 0.311254,
     "end_time": "2023-10-08T15:16:26.579108",
     "exception": false,
     "start_time": "2023-10-08T15:16:26.267854",
     "status": "completed"
    },
    "tags": []
   },
   "outputs": [
    {
     "data": {
      "text/html": [
       "<div>\n",
       "<style scoped>\n",
       "    .dataframe tbody tr th:only-of-type {\n",
       "        vertical-align: middle;\n",
       "    }\n",
       "\n",
       "    .dataframe tbody tr th {\n",
       "        vertical-align: top;\n",
       "    }\n",
       "\n",
       "    .dataframe thead th {\n",
       "        text-align: right;\n",
       "    }\n",
       "</style>\n",
       "<table border=\"1\" class=\"dataframe\">\n",
       "  <thead>\n",
       "    <tr style=\"text-align: right;\">\n",
       "      <th></th>\n",
       "      <th>duration</th>\n",
       "      <th>protocol_type</th>\n",
       "      <th>service</th>\n",
       "      <th>flag</th>\n",
       "      <th>src_bytes</th>\n",
       "      <th>dst_bytes</th>\n",
       "      <th>land</th>\n",
       "      <th>wrong_fragment</th>\n",
       "      <th>urgent</th>\n",
       "      <th>hot</th>\n",
       "      <th>...</th>\n",
       "      <th>dst_host_srv_count</th>\n",
       "      <th>dst_host_same_srv_rate</th>\n",
       "      <th>dst_host_diff_srv_rate</th>\n",
       "      <th>dst_host_same_src_port_rate</th>\n",
       "      <th>dst_host_srv_diff_host_rate</th>\n",
       "      <th>dst_host_serror_rate</th>\n",
       "      <th>dst_host_srv_serror_rate</th>\n",
       "      <th>dst_host_rerror_rate</th>\n",
       "      <th>dst_host_srv_rerror_rate</th>\n",
       "      <th>class</th>\n",
       "    </tr>\n",
       "  </thead>\n",
       "  <tbody>\n",
       "    <tr>\n",
       "      <th>0</th>\n",
       "      <td>0</td>\n",
       "      <td>tcp</td>\n",
       "      <td>ftp_data</td>\n",
       "      <td>SF</td>\n",
       "      <td>491</td>\n",
       "      <td>0</td>\n",
       "      <td>0</td>\n",
       "      <td>0</td>\n",
       "      <td>0</td>\n",
       "      <td>0</td>\n",
       "      <td>...</td>\n",
       "      <td>25</td>\n",
       "      <td>0.17</td>\n",
       "      <td>0.03</td>\n",
       "      <td>0.17</td>\n",
       "      <td>0.00</td>\n",
       "      <td>0.00</td>\n",
       "      <td>0.00</td>\n",
       "      <td>0.05</td>\n",
       "      <td>0.00</td>\n",
       "      <td>normal</td>\n",
       "    </tr>\n",
       "    <tr>\n",
       "      <th>1</th>\n",
       "      <td>0</td>\n",
       "      <td>udp</td>\n",
       "      <td>other</td>\n",
       "      <td>SF</td>\n",
       "      <td>146</td>\n",
       "      <td>0</td>\n",
       "      <td>0</td>\n",
       "      <td>0</td>\n",
       "      <td>0</td>\n",
       "      <td>0</td>\n",
       "      <td>...</td>\n",
       "      <td>1</td>\n",
       "      <td>0.00</td>\n",
       "      <td>0.60</td>\n",
       "      <td>0.88</td>\n",
       "      <td>0.00</td>\n",
       "      <td>0.00</td>\n",
       "      <td>0.00</td>\n",
       "      <td>0.00</td>\n",
       "      <td>0.00</td>\n",
       "      <td>normal</td>\n",
       "    </tr>\n",
       "    <tr>\n",
       "      <th>2</th>\n",
       "      <td>0</td>\n",
       "      <td>tcp</td>\n",
       "      <td>private</td>\n",
       "      <td>S0</td>\n",
       "      <td>0</td>\n",
       "      <td>0</td>\n",
       "      <td>0</td>\n",
       "      <td>0</td>\n",
       "      <td>0</td>\n",
       "      <td>0</td>\n",
       "      <td>...</td>\n",
       "      <td>26</td>\n",
       "      <td>0.10</td>\n",
       "      <td>0.05</td>\n",
       "      <td>0.00</td>\n",
       "      <td>0.00</td>\n",
       "      <td>1.00</td>\n",
       "      <td>1.00</td>\n",
       "      <td>0.00</td>\n",
       "      <td>0.00</td>\n",
       "      <td>anomaly</td>\n",
       "    </tr>\n",
       "    <tr>\n",
       "      <th>3</th>\n",
       "      <td>0</td>\n",
       "      <td>tcp</td>\n",
       "      <td>http</td>\n",
       "      <td>SF</td>\n",
       "      <td>232</td>\n",
       "      <td>8153</td>\n",
       "      <td>0</td>\n",
       "      <td>0</td>\n",
       "      <td>0</td>\n",
       "      <td>0</td>\n",
       "      <td>...</td>\n",
       "      <td>255</td>\n",
       "      <td>1.00</td>\n",
       "      <td>0.00</td>\n",
       "      <td>0.03</td>\n",
       "      <td>0.04</td>\n",
       "      <td>0.03</td>\n",
       "      <td>0.01</td>\n",
       "      <td>0.00</td>\n",
       "      <td>0.01</td>\n",
       "      <td>normal</td>\n",
       "    </tr>\n",
       "    <tr>\n",
       "      <th>4</th>\n",
       "      <td>0</td>\n",
       "      <td>tcp</td>\n",
       "      <td>http</td>\n",
       "      <td>SF</td>\n",
       "      <td>199</td>\n",
       "      <td>420</td>\n",
       "      <td>0</td>\n",
       "      <td>0</td>\n",
       "      <td>0</td>\n",
       "      <td>0</td>\n",
       "      <td>...</td>\n",
       "      <td>255</td>\n",
       "      <td>1.00</td>\n",
       "      <td>0.00</td>\n",
       "      <td>0.00</td>\n",
       "      <td>0.00</td>\n",
       "      <td>0.00</td>\n",
       "      <td>0.00</td>\n",
       "      <td>0.00</td>\n",
       "      <td>0.00</td>\n",
       "      <td>normal</td>\n",
       "    </tr>\n",
       "  </tbody>\n",
       "</table>\n",
       "<p>5 rows × 42 columns</p>\n",
       "</div>"
      ],
      "text/plain": [
       "   duration protocol_type   service flag  src_bytes  dst_bytes  land  \\\n",
       "0         0           tcp  ftp_data   SF        491          0     0   \n",
       "1         0           udp     other   SF        146          0     0   \n",
       "2         0           tcp   private   S0          0          0     0   \n",
       "3         0           tcp      http   SF        232       8153     0   \n",
       "4         0           tcp      http   SF        199        420     0   \n",
       "\n",
       "   wrong_fragment  urgent  hot  ...  dst_host_srv_count  \\\n",
       "0               0       0    0  ...                  25   \n",
       "1               0       0    0  ...                   1   \n",
       "2               0       0    0  ...                  26   \n",
       "3               0       0    0  ...                 255   \n",
       "4               0       0    0  ...                 255   \n",
       "\n",
       "   dst_host_same_srv_rate  dst_host_diff_srv_rate  \\\n",
       "0                    0.17                    0.03   \n",
       "1                    0.00                    0.60   \n",
       "2                    0.10                    0.05   \n",
       "3                    1.00                    0.00   \n",
       "4                    1.00                    0.00   \n",
       "\n",
       "   dst_host_same_src_port_rate  dst_host_srv_diff_host_rate  \\\n",
       "0                         0.17                         0.00   \n",
       "1                         0.88                         0.00   \n",
       "2                         0.00                         0.00   \n",
       "3                         0.03                         0.04   \n",
       "4                         0.00                         0.00   \n",
       "\n",
       "   dst_host_serror_rate  dst_host_srv_serror_rate  dst_host_rerror_rate  \\\n",
       "0                  0.00                      0.00                  0.05   \n",
       "1                  0.00                      0.00                  0.00   \n",
       "2                  1.00                      1.00                  0.00   \n",
       "3                  0.03                      0.01                  0.00   \n",
       "4                  0.00                      0.00                  0.00   \n",
       "\n",
       "   dst_host_srv_rerror_rate    class  \n",
       "0                      0.00   normal  \n",
       "1                      0.00   normal  \n",
       "2                      0.00  anomaly  \n",
       "3                      0.01   normal  \n",
       "4                      0.00   normal  \n",
       "\n",
       "[5 rows x 42 columns]"
      ]
     },
     "execution_count": 3,
     "metadata": {},
     "output_type": "execute_result"
    }
   ],
   "source": [
    "#  Open the data file using read_csv() method of pandas\n",
    "df_train = pd.read_csv(\"/kaggle/input/network-intrusion-detection/Train_data.csv\")\n",
    "df_test = pd.read_csv(\"/kaggle/input/network-intrusion-detection/Test_data.csv\")\n",
    "df_train.head()\n",
    "#df_test.head()"
   ]
  },
  {
   "cell_type": "code",
   "execution_count": 4,
   "id": "45c98c13",
   "metadata": {
    "execution": {
     "iopub.execute_input": "2023-10-08T15:16:26.593960Z",
     "iopub.status.busy": "2023-10-08T15:16:26.593605Z",
     "iopub.status.idle": "2023-10-08T15:16:26.600043Z",
     "shell.execute_reply": "2023-10-08T15:16:26.599065Z"
    },
    "papermill": {
     "duration": 0.016252,
     "end_time": "2023-10-08T15:16:26.602061",
     "exception": false,
     "start_time": "2023-10-08T15:16:26.585809",
     "status": "completed"
    },
    "tags": []
   },
   "outputs": [
    {
     "data": {
      "text/plain": [
       "(25192, 42)"
      ]
     },
     "execution_count": 4,
     "metadata": {},
     "output_type": "execute_result"
    }
   ],
   "source": [
    "# Observe the shape of df_train data \n",
    "df_train.shape"
   ]
  },
  {
   "cell_type": "code",
   "execution_count": 5,
   "id": "f330cc87",
   "metadata": {
    "execution": {
     "iopub.execute_input": "2023-10-08T15:16:26.616998Z",
     "iopub.status.busy": "2023-10-08T15:16:26.616648Z",
     "iopub.status.idle": "2023-10-08T15:16:26.632182Z",
     "shell.execute_reply": "2023-10-08T15:16:26.631067Z"
    },
    "papermill": {
     "duration": 0.025535,
     "end_time": "2023-10-08T15:16:26.634375",
     "exception": false,
     "start_time": "2023-10-08T15:16:26.608840",
     "status": "completed"
    },
    "tags": []
   },
   "outputs": [
    {
     "data": {
      "text/plain": [
       "duration                       0\n",
       "protocol_type                  0\n",
       "service                        0\n",
       "flag                           0\n",
       "src_bytes                      0\n",
       "dst_bytes                      0\n",
       "land                           0\n",
       "wrong_fragment                 0\n",
       "urgent                         0\n",
       "hot                            0\n",
       "num_failed_logins              0\n",
       "logged_in                      0\n",
       "num_compromised                0\n",
       "root_shell                     0\n",
       "su_attempted                   0\n",
       "num_root                       0\n",
       "num_file_creations             0\n",
       "num_shells                     0\n",
       "num_access_files               0\n",
       "num_outbound_cmds              0\n",
       "is_host_login                  0\n",
       "is_guest_login                 0\n",
       "count                          0\n",
       "srv_count                      0\n",
       "serror_rate                    0\n",
       "srv_serror_rate                0\n",
       "rerror_rate                    0\n",
       "srv_rerror_rate                0\n",
       "same_srv_rate                  0\n",
       "diff_srv_rate                  0\n",
       "srv_diff_host_rate             0\n",
       "dst_host_count                 0\n",
       "dst_host_srv_count             0\n",
       "dst_host_same_srv_rate         0\n",
       "dst_host_diff_srv_rate         0\n",
       "dst_host_same_src_port_rate    0\n",
       "dst_host_srv_diff_host_rate    0\n",
       "dst_host_serror_rate           0\n",
       "dst_host_srv_serror_rate       0\n",
       "dst_host_rerror_rate           0\n",
       "dst_host_srv_rerror_rate       0\n",
       "class                          0\n",
       "dtype: int64"
      ]
     },
     "execution_count": 5,
     "metadata": {},
     "output_type": "execute_result"
    }
   ],
   "source": [
    "# Examine the presence of null value in the data using isna().sum method\n",
    "df_train.isna().sum()"
   ]
  },
  {
   "cell_type": "code",
   "execution_count": 6,
   "id": "b45b5626",
   "metadata": {
    "execution": {
     "iopub.execute_input": "2023-10-08T15:16:26.649986Z",
     "iopub.status.busy": "2023-10-08T15:16:26.649352Z",
     "iopub.status.idle": "2023-10-08T15:16:26.690587Z",
     "shell.execute_reply": "2023-10-08T15:16:26.689389Z"
    },
    "papermill": {
     "duration": 0.051778,
     "end_time": "2023-10-08T15:16:26.693146",
     "exception": false,
     "start_time": "2023-10-08T15:16:26.641368",
     "status": "completed"
    },
    "tags": []
   },
   "outputs": [
    {
     "data": {
      "text/plain": [
       "0"
      ]
     },
     "execution_count": 6,
     "metadata": {},
     "output_type": "execute_result"
    }
   ],
   "source": [
    "# Look into any presence of duplicate value using duplicated().sum() method\n",
    "df_train.duplicated().sum()"
   ]
  },
  {
   "cell_type": "code",
   "execution_count": 7,
   "id": "6572d72f",
   "metadata": {
    "execution": {
     "iopub.execute_input": "2023-10-08T15:16:26.709610Z",
     "iopub.status.busy": "2023-10-08T15:16:26.709029Z",
     "iopub.status.idle": "2023-10-08T15:16:26.716194Z",
     "shell.execute_reply": "2023-10-08T15:16:26.715535Z"
    },
    "papermill": {
     "duration": 0.017234,
     "end_time": "2023-10-08T15:16:26.717942",
     "exception": false,
     "start_time": "2023-10-08T15:16:26.700708",
     "status": "completed"
    },
    "tags": []
   },
   "outputs": [
    {
     "data": {
      "text/plain": [
       "duration                         int64\n",
       "protocol_type                   object\n",
       "service                         object\n",
       "flag                            object\n",
       "src_bytes                        int64\n",
       "dst_bytes                        int64\n",
       "land                             int64\n",
       "wrong_fragment                   int64\n",
       "urgent                           int64\n",
       "hot                              int64\n",
       "num_failed_logins                int64\n",
       "logged_in                        int64\n",
       "num_compromised                  int64\n",
       "root_shell                       int64\n",
       "su_attempted                     int64\n",
       "num_root                         int64\n",
       "num_file_creations               int64\n",
       "num_shells                       int64\n",
       "num_access_files                 int64\n",
       "num_outbound_cmds                int64\n",
       "is_host_login                    int64\n",
       "is_guest_login                   int64\n",
       "count                            int64\n",
       "srv_count                        int64\n",
       "serror_rate                    float64\n",
       "srv_serror_rate                float64\n",
       "rerror_rate                    float64\n",
       "srv_rerror_rate                float64\n",
       "same_srv_rate                  float64\n",
       "diff_srv_rate                  float64\n",
       "srv_diff_host_rate             float64\n",
       "dst_host_count                   int64\n",
       "dst_host_srv_count               int64\n",
       "dst_host_same_srv_rate         float64\n",
       "dst_host_diff_srv_rate         float64\n",
       "dst_host_same_src_port_rate    float64\n",
       "dst_host_srv_diff_host_rate    float64\n",
       "dst_host_serror_rate           float64\n",
       "dst_host_srv_serror_rate       float64\n",
       "dst_host_rerror_rate           float64\n",
       "dst_host_srv_rerror_rate       float64\n",
       "class                           object\n",
       "dtype: object"
      ]
     },
     "execution_count": 7,
     "metadata": {},
     "output_type": "execute_result"
    }
   ],
   "source": [
    "# Inspect the datatypes using dtypes method\n",
    "df_train.dtypes"
   ]
  },
  {
   "cell_type": "code",
   "execution_count": 8,
   "id": "d6dae6d4",
   "metadata": {
    "execution": {
     "iopub.execute_input": "2023-10-08T15:16:26.734417Z",
     "iopub.status.busy": "2023-10-08T15:16:26.733740Z",
     "iopub.status.idle": "2023-10-08T15:16:26.742316Z",
     "shell.execute_reply": "2023-10-08T15:16:26.741109Z"
    },
    "papermill": {
     "duration": 0.019571,
     "end_time": "2023-10-08T15:16:26.744801",
     "exception": false,
     "start_time": "2023-10-08T15:16:26.725230",
     "status": "completed"
    },
    "tags": []
   },
   "outputs": [
    {
     "data": {
      "text/plain": [
       "(11,)"
      ]
     },
     "execution_count": 8,
     "metadata": {},
     "output_type": "execute_result"
    }
   ],
   "source": [
    "# Examine the unique values in flag columns using unique().shape func\n",
    "df_train[\"flag\"].unique().shape"
   ]
  },
  {
   "cell_type": "code",
   "execution_count": 9,
   "id": "754de8c5",
   "metadata": {
    "execution": {
     "iopub.execute_input": "2023-10-08T15:16:26.761813Z",
     "iopub.status.busy": "2023-10-08T15:16:26.761396Z",
     "iopub.status.idle": "2023-10-08T15:16:26.794795Z",
     "shell.execute_reply": "2023-10-08T15:16:26.793821Z"
    },
    "papermill": {
     "duration": 0.045005,
     "end_time": "2023-10-08T15:16:26.797130",
     "exception": false,
     "start_time": "2023-10-08T15:16:26.752125",
     "status": "completed"
    },
    "tags": []
   },
   "outputs": [],
   "source": [
    "# Applying LabelEcoder and staradardscaler; OneHotEncoder on the data\n",
    "encoder = LabelEncoder()\n",
    "scaler = StandardScaler()\n",
    "onehot = OneHotEncoder()\n",
    "\n",
    "cols_label_encoder = [\"service\", \"flag\", \"class\"]\n",
    "cls_scaler = []\n",
    "cols_onehot = [\"protocol_type\"]\n",
    "\n",
    "# apply the fit_transform() method and looping on data \n",
    "for col in cols_label_encoder:\n",
    "    df_train[col] = encoder.fit_transform(df_train[col])\n",
    "    \n",
    "# utilize get_dummies() method in categorizing variables \n",
    "df_train = pd.get_dummies(df_train, columns=cols_onehot)"
   ]
  },
  {
   "cell_type": "code",
   "execution_count": 10,
   "id": "aa99099f",
   "metadata": {
    "execution": {
     "iopub.execute_input": "2023-10-08T15:16:26.813417Z",
     "iopub.status.busy": "2023-10-08T15:16:26.812983Z",
     "iopub.status.idle": "2023-10-08T15:16:26.834412Z",
     "shell.execute_reply": "2023-10-08T15:16:26.833284Z"
    },
    "papermill": {
     "duration": 0.03187,
     "end_time": "2023-10-08T15:16:26.836424",
     "exception": false,
     "start_time": "2023-10-08T15:16:26.804554",
     "status": "completed"
    },
    "tags": []
   },
   "outputs": [
    {
     "data": {
      "text/html": [
       "<div>\n",
       "<style scoped>\n",
       "    .dataframe tbody tr th:only-of-type {\n",
       "        vertical-align: middle;\n",
       "    }\n",
       "\n",
       "    .dataframe tbody tr th {\n",
       "        vertical-align: top;\n",
       "    }\n",
       "\n",
       "    .dataframe thead th {\n",
       "        text-align: right;\n",
       "    }\n",
       "</style>\n",
       "<table border=\"1\" class=\"dataframe\">\n",
       "  <thead>\n",
       "    <tr style=\"text-align: right;\">\n",
       "      <th></th>\n",
       "      <th>duration</th>\n",
       "      <th>service</th>\n",
       "      <th>flag</th>\n",
       "      <th>src_bytes</th>\n",
       "      <th>dst_bytes</th>\n",
       "      <th>land</th>\n",
       "      <th>wrong_fragment</th>\n",
       "      <th>urgent</th>\n",
       "      <th>hot</th>\n",
       "      <th>num_failed_logins</th>\n",
       "      <th>...</th>\n",
       "      <th>dst_host_same_src_port_rate</th>\n",
       "      <th>dst_host_srv_diff_host_rate</th>\n",
       "      <th>dst_host_serror_rate</th>\n",
       "      <th>dst_host_srv_serror_rate</th>\n",
       "      <th>dst_host_rerror_rate</th>\n",
       "      <th>dst_host_srv_rerror_rate</th>\n",
       "      <th>class</th>\n",
       "      <th>protocol_type_icmp</th>\n",
       "      <th>protocol_type_tcp</th>\n",
       "      <th>protocol_type_udp</th>\n",
       "    </tr>\n",
       "  </thead>\n",
       "  <tbody>\n",
       "    <tr>\n",
       "      <th>0</th>\n",
       "      <td>0</td>\n",
       "      <td>19</td>\n",
       "      <td>9</td>\n",
       "      <td>491</td>\n",
       "      <td>0</td>\n",
       "      <td>0</td>\n",
       "      <td>0</td>\n",
       "      <td>0</td>\n",
       "      <td>0</td>\n",
       "      <td>0</td>\n",
       "      <td>...</td>\n",
       "      <td>0.17</td>\n",
       "      <td>0.00</td>\n",
       "      <td>0.00</td>\n",
       "      <td>0.00</td>\n",
       "      <td>0.05</td>\n",
       "      <td>0.00</td>\n",
       "      <td>1</td>\n",
       "      <td>False</td>\n",
       "      <td>True</td>\n",
       "      <td>False</td>\n",
       "    </tr>\n",
       "    <tr>\n",
       "      <th>1</th>\n",
       "      <td>0</td>\n",
       "      <td>41</td>\n",
       "      <td>9</td>\n",
       "      <td>146</td>\n",
       "      <td>0</td>\n",
       "      <td>0</td>\n",
       "      <td>0</td>\n",
       "      <td>0</td>\n",
       "      <td>0</td>\n",
       "      <td>0</td>\n",
       "      <td>...</td>\n",
       "      <td>0.88</td>\n",
       "      <td>0.00</td>\n",
       "      <td>0.00</td>\n",
       "      <td>0.00</td>\n",
       "      <td>0.00</td>\n",
       "      <td>0.00</td>\n",
       "      <td>1</td>\n",
       "      <td>False</td>\n",
       "      <td>False</td>\n",
       "      <td>True</td>\n",
       "    </tr>\n",
       "    <tr>\n",
       "      <th>2</th>\n",
       "      <td>0</td>\n",
       "      <td>46</td>\n",
       "      <td>5</td>\n",
       "      <td>0</td>\n",
       "      <td>0</td>\n",
       "      <td>0</td>\n",
       "      <td>0</td>\n",
       "      <td>0</td>\n",
       "      <td>0</td>\n",
       "      <td>0</td>\n",
       "      <td>...</td>\n",
       "      <td>0.00</td>\n",
       "      <td>0.00</td>\n",
       "      <td>1.00</td>\n",
       "      <td>1.00</td>\n",
       "      <td>0.00</td>\n",
       "      <td>0.00</td>\n",
       "      <td>0</td>\n",
       "      <td>False</td>\n",
       "      <td>True</td>\n",
       "      <td>False</td>\n",
       "    </tr>\n",
       "    <tr>\n",
       "      <th>3</th>\n",
       "      <td>0</td>\n",
       "      <td>22</td>\n",
       "      <td>9</td>\n",
       "      <td>232</td>\n",
       "      <td>8153</td>\n",
       "      <td>0</td>\n",
       "      <td>0</td>\n",
       "      <td>0</td>\n",
       "      <td>0</td>\n",
       "      <td>0</td>\n",
       "      <td>...</td>\n",
       "      <td>0.03</td>\n",
       "      <td>0.04</td>\n",
       "      <td>0.03</td>\n",
       "      <td>0.01</td>\n",
       "      <td>0.00</td>\n",
       "      <td>0.01</td>\n",
       "      <td>1</td>\n",
       "      <td>False</td>\n",
       "      <td>True</td>\n",
       "      <td>False</td>\n",
       "    </tr>\n",
       "    <tr>\n",
       "      <th>4</th>\n",
       "      <td>0</td>\n",
       "      <td>22</td>\n",
       "      <td>9</td>\n",
       "      <td>199</td>\n",
       "      <td>420</td>\n",
       "      <td>0</td>\n",
       "      <td>0</td>\n",
       "      <td>0</td>\n",
       "      <td>0</td>\n",
       "      <td>0</td>\n",
       "      <td>...</td>\n",
       "      <td>0.00</td>\n",
       "      <td>0.00</td>\n",
       "      <td>0.00</td>\n",
       "      <td>0.00</td>\n",
       "      <td>0.00</td>\n",
       "      <td>0.00</td>\n",
       "      <td>1</td>\n",
       "      <td>False</td>\n",
       "      <td>True</td>\n",
       "      <td>False</td>\n",
       "    </tr>\n",
       "  </tbody>\n",
       "</table>\n",
       "<p>5 rows × 44 columns</p>\n",
       "</div>"
      ],
      "text/plain": [
       "   duration  service  flag  src_bytes  dst_bytes  land  wrong_fragment  \\\n",
       "0         0       19     9        491          0     0               0   \n",
       "1         0       41     9        146          0     0               0   \n",
       "2         0       46     5          0          0     0               0   \n",
       "3         0       22     9        232       8153     0               0   \n",
       "4         0       22     9        199        420     0               0   \n",
       "\n",
       "   urgent  hot  num_failed_logins  ...  dst_host_same_src_port_rate  \\\n",
       "0       0    0                  0  ...                         0.17   \n",
       "1       0    0                  0  ...                         0.88   \n",
       "2       0    0                  0  ...                         0.00   \n",
       "3       0    0                  0  ...                         0.03   \n",
       "4       0    0                  0  ...                         0.00   \n",
       "\n",
       "   dst_host_srv_diff_host_rate  dst_host_serror_rate  \\\n",
       "0                         0.00                  0.00   \n",
       "1                         0.00                  0.00   \n",
       "2                         0.00                  1.00   \n",
       "3                         0.04                  0.03   \n",
       "4                         0.00                  0.00   \n",
       "\n",
       "   dst_host_srv_serror_rate  dst_host_rerror_rate  dst_host_srv_rerror_rate  \\\n",
       "0                      0.00                  0.05                      0.00   \n",
       "1                      0.00                  0.00                      0.00   \n",
       "2                      1.00                  0.00                      0.00   \n",
       "3                      0.01                  0.00                      0.01   \n",
       "4                      0.00                  0.00                      0.00   \n",
       "\n",
       "   class  protocol_type_icmp  protocol_type_tcp  protocol_type_udp  \n",
       "0      1               False               True              False  \n",
       "1      1               False              False               True  \n",
       "2      0               False               True              False  \n",
       "3      1               False               True              False  \n",
       "4      1               False               True              False  \n",
       "\n",
       "[5 rows x 44 columns]"
      ]
     },
     "execution_count": 10,
     "metadata": {},
     "output_type": "execute_result"
    }
   ],
   "source": [
    "# Observe the first five datasets of df_train using head() method \n",
    "df_train.head()"
   ]
  },
  {
   "cell_type": "code",
   "execution_count": 11,
   "id": "7352fc91",
   "metadata": {
    "execution": {
     "iopub.execute_input": "2023-10-08T15:16:26.853718Z",
     "iopub.status.busy": "2023-10-08T15:16:26.853274Z",
     "iopub.status.idle": "2023-10-08T15:16:26.860630Z",
     "shell.execute_reply": "2023-10-08T15:16:26.859472Z"
    },
    "papermill": {
     "duration": 0.018606,
     "end_time": "2023-10-08T15:16:26.862711",
     "exception": false,
     "start_time": "2023-10-08T15:16:26.844105",
     "status": "completed"
    },
    "tags": []
   },
   "outputs": [
    {
     "data": {
      "text/plain": [
       "Index(['duration', 'service', 'flag', 'src_bytes', 'dst_bytes', 'land',\n",
       "       'wrong_fragment', 'urgent', 'hot', 'num_failed_logins', 'logged_in',\n",
       "       'num_compromised', 'root_shell', 'su_attempted', 'num_root',\n",
       "       'num_file_creations', 'num_shells', 'num_access_files',\n",
       "       'num_outbound_cmds', 'is_host_login', 'is_guest_login', 'count',\n",
       "       'srv_count', 'serror_rate', 'srv_serror_rate', 'rerror_rate',\n",
       "       'srv_rerror_rate', 'same_srv_rate', 'diff_srv_rate',\n",
       "       'srv_diff_host_rate', 'dst_host_count', 'dst_host_srv_count',\n",
       "       'dst_host_same_srv_rate', 'dst_host_diff_srv_rate',\n",
       "       'dst_host_same_src_port_rate', 'dst_host_srv_diff_host_rate',\n",
       "       'dst_host_serror_rate', 'dst_host_srv_serror_rate',\n",
       "       'dst_host_rerror_rate', 'dst_host_srv_rerror_rate', 'class',\n",
       "       'protocol_type_icmp', 'protocol_type_tcp', 'protocol_type_udp'],\n",
       "      dtype='object')"
      ]
     },
     "execution_count": 11,
     "metadata": {},
     "output_type": "execute_result"
    }
   ],
   "source": [
    "# Print the name of columns using columns method\n",
    "df_train.columns"
   ]
  },
  {
   "cell_type": "code",
   "execution_count": 14,
   "id": "bafda1ee",
   "metadata": {
    "execution": {
     "iopub.execute_input": "2023-10-08T15:16:26.978136Z",
     "iopub.status.busy": "2023-10-08T15:16:26.977739Z",
     "iopub.status.idle": "2023-10-08T15:16:26.986083Z",
     "shell.execute_reply": "2023-10-08T15:16:26.984894Z"
    },
    "papermill": {
     "duration": 0.019659,
     "end_time": "2023-10-08T15:16:26.988124",
     "exception": false,
     "start_time": "2023-10-08T15:16:26.968465",
     "status": "completed"
    },
    "tags": []
   },
   "outputs": [
    {
     "data": {
      "text/plain": [
       "duration                       float64\n",
       "service                        float64\n",
       "flag                           float64\n",
       "src_bytes                      float64\n",
       "dst_bytes                      float64\n",
       "land                           float64\n",
       "wrong_fragment                 float64\n",
       "urgent                         float64\n",
       "hot                            float64\n",
       "num_failed_logins              float64\n",
       "logged_in                      float64\n",
       "num_compromised                float64\n",
       "root_shell                     float64\n",
       "su_attempted                   float64\n",
       "num_root                       float64\n",
       "num_file_creations             float64\n",
       "num_shells                     float64\n",
       "num_access_files               float64\n",
       "num_outbound_cmds              float64\n",
       "is_host_login                  float64\n",
       "is_guest_login                 float64\n",
       "count                          float64\n",
       "srv_count                      float64\n",
       "serror_rate                    float64\n",
       "srv_serror_rate                float64\n",
       "rerror_rate                    float64\n",
       "srv_rerror_rate                float64\n",
       "same_srv_rate                  float64\n",
       "diff_srv_rate                  float64\n",
       "srv_diff_host_rate             float64\n",
       "dst_host_count                 float64\n",
       "dst_host_srv_count             float64\n",
       "dst_host_same_srv_rate         float64\n",
       "dst_host_diff_srv_rate         float64\n",
       "dst_host_same_src_port_rate    float64\n",
       "dst_host_srv_diff_host_rate    float64\n",
       "dst_host_serror_rate           float64\n",
       "dst_host_srv_serror_rate       float64\n",
       "dst_host_srv_rerror_rate       float64\n",
       "class                            int64\n",
       "protocol_type_icmp                bool\n",
       "protocol_type_tcp                 bool\n",
       "dtype: object"
      ]
     },
     "execution_count": 14,
     "metadata": {},
     "output_type": "execute_result"
    }
   ],
   "source": [
    "# Examine the data types in the df_train data using dtypes methods\n",
    "df_train.dtypes"
   ]
  },
  {
   "cell_type": "code",
   "execution_count": 15,
   "id": "6def07d6",
   "metadata": {
    "execution": {
     "iopub.execute_input": "2023-10-08T15:16:27.009794Z",
     "iopub.status.busy": "2023-10-08T15:16:27.009367Z",
     "iopub.status.idle": "2023-10-08T15:16:27.245957Z",
     "shell.execute_reply": "2023-10-08T15:16:27.244931Z"
    },
    "papermill": {
     "duration": 0.251769,
     "end_time": "2023-10-08T15:16:27.248472",
     "exception": false,
     "start_time": "2023-10-08T15:16:26.996703",
     "status": "completed"
    },
    "tags": []
   },
   "outputs": [
    {
     "data": {
      "image/png": "[encoded data removed]",
      "text/plain": [
       "<Figure size 640x480 with 1 Axes>"
      ]
     },
     "metadata": {},
     "output_type": "display_data"
    }
   ],
   "source": [
    "# Plot countplot of column \"class\" using seaborn library\n",
    "sns.countplot(x=df_train[\"class\"], data=df_train)\n",
    "plt.show()"
   ]
  },
  {
   "cell_type": "code",
   "execution_count": 16,
   "id": "7e08c824",
   "metadata": {
    "execution": {
     "iopub.execute_input": "2023-10-08T15:16:27.268650Z",
     "iopub.status.busy": "2023-10-08T15:16:27.267906Z",
     "iopub.status.idle": "2023-10-08T15:16:27.280574Z",
     "shell.execute_reply": "2023-10-08T15:16:27.279421Z"
    },
    "papermill": {
     "duration": 0.025018,
     "end_time": "2023-10-08T15:16:27.282692",
     "exception": false,
     "start_time": "2023-10-08T15:16:27.257674",
     "status": "completed"
    },
    "tags": []
   },
   "outputs": [],
   "source": [
    "# Remove class column from df_train data using drop() method \n",
    "X = df_train.drop(labels=\"class\", axis=1)\n",
    "y = df_train[\"class\"]"
   ]
  },
  {
   "cell_type": "code",
   "execution_count": 17,
   "id": "2d5a9ea6",
   "metadata": {
    "execution": {
     "iopub.execute_input": "2023-10-08T15:16:27.301501Z",
     "iopub.status.busy": "2023-10-08T15:16:27.301082Z",
     "iopub.status.idle": "2023-10-08T15:16:27.309705Z",
     "shell.execute_reply": "2023-10-08T15:16:27.308849Z"
    },
    "papermill": {
     "duration": 0.020255,
     "end_time": "2023-10-08T15:16:27.311785",
     "exception": false,
     "start_time": "2023-10-08T15:16:27.291530",
     "status": "completed"
    },
    "tags": []
   },
   "outputs": [],
   "source": [
    "# Ensure that all columns are of numeric data types\n",
    "X = X.astype('float32')\n",
    "y = y.astype('float32')"
   ]
  },
  {
   "cell_type": "code",
   "execution_count": 18,
   "id": "e201ec0e",
   "metadata": {
    "execution": {
     "iopub.execute_input": "2023-10-08T15:16:27.330500Z",
     "iopub.status.busy": "2023-10-08T15:16:27.330100Z",
     "iopub.status.idle": "2023-10-08T15:16:27.342658Z",
     "shell.execute_reply": "2023-10-08T15:16:27.341487Z"
    },
    "papermill": {
     "duration": 0.02439,
     "end_time": "2023-10-08T15:16:27.344864",
     "exception": false,
     "start_time": "2023-10-08T15:16:27.320474",
     "status": "completed"
    },
    "tags": []
   },
   "outputs": [],
   "source": [
    "# Split the dataset into train and test using train_test_split()\n",
    "X_train, X_test, y_train, y_test = train_test_split(X, y, train_size=0.8, random_state=2)"
   ]
  },
  {
   "cell_type": "code",
   "execution_count": 19,
   "id": "4a5ff1e0",
   "metadata": {
    "execution": {
     "iopub.execute_input": "2023-10-08T15:16:27.363797Z",
     "iopub.status.busy": "2023-10-08T15:16:27.363403Z",
     "iopub.status.idle": "2023-10-08T15:16:27.369790Z",
     "shell.execute_reply": "2023-10-08T15:16:27.368851Z"
    },
    "papermill": {
     "duration": 0.018168,
     "end_time": "2023-10-08T15:16:27.371816",
     "exception": false,
     "start_time": "2023-10-08T15:16:27.353648",
     "status": "completed"
    },
    "tags": []
   },
   "outputs": [
    {
     "data": {
      "text/plain": [
       "(41, 41)"
      ]
     },
     "execution_count": 19,
     "metadata": {},
     "output_type": "execute_result"
    }
   ],
   "source": [
    "X_train.shape[1], X_test.shape[1]"
   ]
  },
  {
   "cell_type": "code",
   "execution_count": 20,
   "id": "20b00b59",
   "metadata": {
    "execution": {
     "iopub.execute_input": "2023-10-08T15:16:27.390498Z",
     "iopub.status.busy": "2023-10-08T15:16:27.390094Z",
     "iopub.status.idle": "2023-10-08T15:16:27.598407Z",
     "shell.execute_reply": "2023-10-08T15:16:27.597338Z"
    },
    "papermill": {
     "duration": 0.220759,
     "end_time": "2023-10-08T15:16:27.600927",
     "exception": false,
     "start_time": "2023-10-08T15:16:27.380168",
     "status": "completed"
    },
    "tags": []
   },
   "outputs": [],
   "source": [
    "# Creating a CNN model\n",
    "input_dim = X_train.shape[1]  # Set the input dimension based on the number of features\n",
    "\n",
    "model = Sequential([\n",
    "    Dense(128, input_dim=input_dim, activation=\"relu\"),\n",
    "    Dense(64, kernel_regularizer=l2(0.01), activation=\"relu\"),\n",
    "    Dense(64, kernel_regularizer=l2(0.01), activation=\"relu\"),\n",
    "    Dense(64, kernel_regularizer=l2(0.01), activation=\"relu\"),\n",
    "    Dropout(0.25),\n",
    "    Dense(1, activation=\"sigmoid\")\n",
    "])\n"
   ]
  },
  {
   "cell_type": "code",
   "execution_count": 21,
   "id": "000d40a0",
   "metadata": {
    "execution": {
     "iopub.execute_input": "2023-10-08T15:16:27.620471Z",
     "iopub.status.busy": "2023-10-08T15:16:27.620058Z",
     "iopub.status.idle": "2023-10-08T15:16:27.636477Z",
     "shell.execute_reply": "2023-10-08T15:16:27.635615Z"
    },
    "papermill": {
     "duration": 0.028585,
     "end_time": "2023-10-08T15:16:27.638611",
     "exception": false,
     "start_time": "2023-10-08T15:16:27.610026",
     "status": "completed"
    },
    "tags": []
   },
   "outputs": [],
   "source": [
    "# Compile the model using Adam and loss=\"binary_crossentropy\"\n",
    "model.compile(Adam(learning_rate=0.001), loss=\"binary_crossentropy\", metrics=[\"accuracy\"])"
   ]
  },
  {
   "cell_type": "code",
   "execution_count": 22,
   "id": "f63d3a3b",
   "metadata": {
    "execution": {
     "iopub.execute_input": "2023-10-08T15:16:27.657999Z",
     "iopub.status.busy": "2023-10-08T15:16:27.657639Z",
     "iopub.status.idle": "2023-10-08T15:17:16.642303Z",
     "shell.execute_reply": "2023-10-08T15:17:16.641211Z"
    },
    "papermill": {
     "duration": 48.997426,
     "end_time": "2023-10-08T15:17:16.644860",
     "exception": false,
     "start_time": "2023-10-08T15:16:27.647434",
     "status": "completed"
    },
    "tags": []
   },
   "outputs": [
    {
     "name": "stdout",
     "output_type": "stream",
     "text": [
      "Epoch 1/32\n",
      "630/630 [==============================] - 3s 3ms/step - loss: 390.1069 - accuracy: 0.8648 - val_loss: 110.8543 - val_accuracy: 0.8768\n",
      "Epoch 2/32\n",
      "630/630 [==============================] - 1s 2ms/step - loss: 128.0139 - accuracy: 0.9043 - val_loss: 378.9062 - val_accuracy: 0.6860\n",
      "Epoch 3/32\n",
      "630/630 [==============================] - 1s 2ms/step - loss: 59.9643 - accuracy: 0.9216 - val_loss: 164.7852 - val_accuracy: 0.9115\n",
      "Epoch 4/32\n",
      "630/630 [==============================] - 2s 2ms/step - loss: 193.5192 - accuracy: 0.9201 - val_loss: 217.2061 - val_accuracy: 0.9387\n",
      "Epoch 5/32\n",
      "630/630 [==============================] - 1s 2ms/step - loss: 98.1524 - accuracy: 0.9138 - val_loss: 78.6190 - val_accuracy: 0.8516\n",
      "Epoch 6/32\n",
      "630/630 [==============================] - 1s 2ms/step - loss: 146.3550 - accuracy: 0.9217 - val_loss: 52.4530 - val_accuracy: 0.8960\n",
      "Epoch 7/32\n",
      "630/630 [==============================] - 2s 2ms/step - loss: 11.8413 - accuracy: 0.9495 - val_loss: 6.7486 - val_accuracy: 0.9688\n",
      "Epoch 8/32\n",
      "630/630 [==============================] - 1s 2ms/step - loss: 12.5297 - accuracy: 0.9359 - val_loss: 4.0210 - val_accuracy: 0.9530\n",
      "Epoch 9/32\n",
      "630/630 [==============================] - 1s 2ms/step - loss: 4.9433 - accuracy: 0.9523 - val_loss: 4.0809 - val_accuracy: 0.9480\n",
      "Epoch 10/32\n",
      "630/630 [==============================] - 1s 2ms/step - loss: 14.0461 - accuracy: 0.9487 - val_loss: 3.5165 - val_accuracy: 0.9550\n",
      "Epoch 11/32\n",
      "630/630 [==============================] - 1s 2ms/step - loss: 7.2391 - accuracy: 0.9599 - val_loss: 16.4924 - val_accuracy: 0.9532\n",
      "Epoch 12/32\n",
      "630/630 [==============================] - 2s 2ms/step - loss: 10.9294 - accuracy: 0.9490 - val_loss: 7.6943 - val_accuracy: 0.9659\n",
      "Epoch 13/32\n",
      "630/630 [==============================] - 2s 3ms/step - loss: 10.3875 - accuracy: 0.9477 - val_loss: 6.6511 - val_accuracy: 0.9204\n",
      "Epoch 14/32\n",
      "630/630 [==============================] - 2s 2ms/step - loss: 1.7952 - accuracy: 0.9613 - val_loss: 1.3818 - val_accuracy: 0.9682\n",
      "Epoch 15/32\n",
      "630/630 [==============================] - 2s 2ms/step - loss: 1.3588 - accuracy: 0.9693 - val_loss: 1.3135 - val_accuracy: 0.9740\n",
      "Epoch 16/32\n",
      "630/630 [==============================] - 1s 2ms/step - loss: 1.2824 - accuracy: 0.9723 - val_loss: 1.2566 - val_accuracy: 0.9692\n",
      "Epoch 17/32\n",
      "630/630 [==============================] - 1s 2ms/step - loss: 1.2159 - accuracy: 0.9739 - val_loss: 1.1955 - val_accuracy: 0.9679\n",
      "Epoch 18/32\n",
      "630/630 [==============================] - 2s 2ms/step - loss: 1.2286 - accuracy: 0.9743 - val_loss: 1.4118 - val_accuracy: 0.9756\n",
      "Epoch 19/32\n",
      "630/630 [==============================] - 1s 2ms/step - loss: 1.1141 - accuracy: 0.9744 - val_loss: 1.0562 - val_accuracy: 0.9712\n",
      "Epoch 20/32\n",
      "630/630 [==============================] - 1s 2ms/step - loss: 1.0053 - accuracy: 0.9743 - val_loss: 0.9662 - val_accuracy: 0.9740\n",
      "Epoch 21/32\n",
      "630/630 [==============================] - 1s 2ms/step - loss: 1.2169 - accuracy: 0.9695 - val_loss: 0.9082 - val_accuracy: 0.9728\n",
      "Epoch 22/32\n",
      "630/630 [==============================] - 2s 2ms/step - loss: 0.8858 - accuracy: 0.9728 - val_loss: 0.8420 - val_accuracy: 0.9679\n",
      "Epoch 23/32\n",
      "630/630 [==============================] - 1s 2ms/step - loss: 0.7920 - accuracy: 0.9744 - val_loss: 0.7620 - val_accuracy: 0.9750\n",
      "Epoch 24/32\n",
      "630/630 [==============================] - 1s 2ms/step - loss: 0.7203 - accuracy: 0.9755 - val_loss: 0.6905 - val_accuracy: 0.9754\n",
      "Epoch 25/32\n",
      "630/630 [==============================] - 2s 3ms/step - loss: 0.6451 - accuracy: 0.9762 - val_loss: 0.6145 - val_accuracy: 0.9762\n",
      "Epoch 26/32\n",
      "630/630 [==============================] - 1s 2ms/step - loss: 0.5775 - accuracy: 0.9764 - val_loss: 0.5462 - val_accuracy: 0.9744\n",
      "Epoch 27/32\n",
      "630/630 [==============================] - 2s 2ms/step - loss: 0.7259 - accuracy: 0.9758 - val_loss: 0.5096 - val_accuracy: 0.9744\n",
      "Epoch 28/32\n",
      "630/630 [==============================] - 1s 2ms/step - loss: 0.4694 - accuracy: 0.9765 - val_loss: 0.4538 - val_accuracy: 0.9750\n",
      "Epoch 29/32\n",
      "630/630 [==============================] - 1s 2ms/step - loss: 0.4249 - accuracy: 0.9740 - val_loss: 0.4285 - val_accuracy: 0.9629\n",
      "Epoch 30/32\n",
      "630/630 [==============================] - 1s 2ms/step - loss: 0.4298 - accuracy: 0.9727 - val_loss: 0.3809 - val_accuracy: 0.9694\n",
      "Epoch 31/32\n",
      "630/630 [==============================] - 2s 3ms/step - loss: 0.3376 - accuracy: 0.9770 - val_loss: 0.3282 - val_accuracy: 0.9760\n",
      "Epoch 32/32\n",
      "630/630 [==============================] - 1s 2ms/step - loss: 0.2998 - accuracy: 0.9766 - val_loss: 0.3078 - val_accuracy: 0.9720\n"
     ]
    }
   ],
   "source": [
    "# Fit the created model and validate with data\n",
    "history = model.fit(X_train, y_train, batch_size=32, epochs=32,\n",
    "                    validation_data=(X_test, y_test), verbose=1)"
   ]
  },
  {
   "cell_type": "code",
   "execution_count": 23,
   "id": "3ae6fd82",
   "metadata": {
    "execution": {
     "iopub.execute_input": "2023-10-08T15:17:16.759680Z",
     "iopub.status.busy": "2023-10-08T15:17:16.759269Z",
     "iopub.status.idle": "2023-10-08T15:17:16.767151Z",
     "shell.execute_reply": "2023-10-08T15:17:16.765795Z"
    },
    "papermill": {
     "duration": 0.068621,
     "end_time": "2023-10-08T15:17:16.769413",
     "exception": false,
     "start_time": "2023-10-08T15:17:16.700792",
     "status": "completed"
    },
    "tags": []
   },
   "outputs": [],
   "source": [
    "# Write a function for plotting learning curve\n",
    "\n",
    "def plot_learning_curve(history, epochs):\n",
    "    # Plot model accuracy \n",
    "    epoch_range = range(1, epochs + 1)\n",
    "    plt.plot(epoch_range, history.history[\"accuracy\"])\n",
    "    plt.plot(epoch_range, history.history[\"val_accuracy\"])\n",
    "    plt.title(\"Network intrusion detection CNN model accuracy\")\n",
    "    plt.ylabel(\"Accuracy\")\n",
    "    plt.xlabel(\"Epoch\")\n",
    "    plt.legend([\"Train\", \"validation\"], loc=\"upper left\")\n",
    "    plt.show()\n",
    "\n",
    "    # Plot model loss \n",
    "    plt.plot(epoch_range, history.history[\"loss\"])\n",
    "    plt.plot(epoch_range, history.history[\"val_loss\"])\n",
    "    plt.title(\"Network intrusion detection CNN model loss\")\n",
    "    plt.ylabel(\"Loss\")\n",
    "    plt.xlabel(\"Epoch\")\n",
    "    plt.legend([\"Train\", \"validation\"], loc=\"upper left\")\n",
    "    plt.show()"
   ]
  },
  {
   "cell_type": "code",
   "execution_count": 24,
   "id": "cd716d57",
   "metadata": {
    "execution": {
     "iopub.execute_input": "2023-10-08T15:17:16.879687Z",
     "iopub.status.busy": "2023-10-08T15:17:16.879274Z",
     "iopub.status.idle": "2023-10-08T15:17:17.449400Z",
     "shell.execute_reply": "2023-10-08T15:17:17.448267Z"
    },
    "papermill": {
     "duration": 0.628369,
     "end_time": "2023-10-08T15:17:17.451750",
     "exception": false,
     "start_time": "2023-10-08T15:17:16.823381",
     "status": "completed"
    },
    "tags": []
   },
   "outputs": [
    {
     "data": {
      "image/png": "[encoded data removed]",
      "text/plain": [
       "<Figure size 640x480 with 1 Axes>"
      ]
     },
     "metadata": {},
     "output_type": "display_data"
    },
    {
     "data": {
      "image/png": "[encoded data removed]",
      "text/plain": [
       "<Figure size 640x480 with 1 Axes>"
      ]
     },
     "metadata": {},
     "output_type": "display_data"
    }
   ],
   "source": [
    "# Display the graph of model accuracy and model loss\n",
    "plot_learning_curve(history, 32)"
   ]
  },
  {
   "cell_type": "code",
   "execution_count": 25,
   "id": "687eaa6d",
   "metadata": {
    "execution": {
     "iopub.execute_input": "2023-10-08T15:17:17.569558Z",
     "iopub.status.busy": "2023-10-08T15:17:17.568648Z",
     "iopub.status.idle": "2023-10-08T15:17:17.594900Z",
     "shell.execute_reply": "2023-10-08T15:17:17.593512Z"
    },
    "papermill": {
     "duration": 0.088606,
     "end_time": "2023-10-08T15:17:17.597695",
     "exception": false,
     "start_time": "2023-10-08T15:17:17.509089",
     "status": "completed"
    },
    "tags": []
   },
   "outputs": [
    {
     "name": "stdout",
     "output_type": "stream",
     "text": [
      "Model: \"sequential\"\n",
      "_________________________________________________________________\n",
      " Layer (type)                Output Shape              Param #   \n",
      "=================================================================\n",
      " dense (Dense)               (None, 128)               5376      \n",
      "                                                                 \n",
      " dense_1 (Dense)             (None, 64)                8256      \n",
      "                                                                 \n",
      " dense_2 (Dense)             (None, 64)                4160      \n",
      "                                                                 \n",
      " dense_3 (Dense)             (None, 64)                4160      \n",
      "                                                                 \n",
      " dropout (Dropout)           (None, 64)                0         \n",
      "                                                                 \n",
      " dense_4 (Dense)             (None, 1)                 65        \n",
      "                                                                 \n",
      "=================================================================\n",
      "Total params: 22,017\n",
      "Trainable params: 22,017\n",
      "Non-trainable params: 0\n",
      "_________________________________________________________________\n"
     ]
    }
   ],
   "source": [
    "# Print the CNN model summary using summary() methods\n",
    "model.summary()"
   ]
  },
  {
   "cell_type": "code",
   "execution_count": 26,
   "id": "6892edf4",
   "metadata": {
    "execution": {
     "iopub.execute_input": "2023-10-08T15:17:17.713388Z",
     "iopub.status.busy": "2023-10-08T15:17:17.712911Z",
     "iopub.status.idle": "2023-10-08T15:17:17.720022Z",
     "shell.execute_reply": "2023-10-08T15:17:17.718893Z"
    },
    "papermill": {
     "duration": 0.06799,
     "end_time": "2023-10-08T15:17:17.722113",
     "exception": false,
     "start_time": "2023-10-08T15:17:17.654123",
     "status": "completed"
    },
    "tags": []
   },
   "outputs": [
    {
     "data": {
      "text/plain": [
       "(5039, 41)"
      ]
     },
     "execution_count": 26,
     "metadata": {},
     "output_type": "execute_result"
    }
   ],
   "source": [
    "# Know the shape of the X_test data using shape function\n",
    "X_test.shape"
   ]
  },
  {
   "cell_type": "code",
   "execution_count": 27,
   "id": "be916dbe",
   "metadata": {
    "execution": {
     "iopub.execute_input": "2023-10-08T15:17:17.837043Z",
     "iopub.status.busy": "2023-10-08T15:17:17.836585Z",
     "iopub.status.idle": "2023-10-08T15:17:18.263830Z",
     "shell.execute_reply": "2023-10-08T15:17:18.262461Z"
    },
    "papermill": {
     "duration": 0.487712,
     "end_time": "2023-10-08T15:17:18.266406",
     "exception": false,
     "start_time": "2023-10-08T15:17:17.778694",
     "status": "completed"
    },
    "tags": []
   },
   "outputs": [
    {
     "name": "stdout",
     "output_type": "stream",
     "text": [
      "158/158 [==============================] - 0s 1ms/step\n"
     ]
    }
   ],
   "source": [
    "# Apply predict() method on the created CNN model to predict the X_test data \n",
    "y_pred = model.predict(X_test)"
   ]
  },
  {
   "cell_type": "code",
   "execution_count": 28,
   "id": "f4127dc2",
   "metadata": {
    "execution": {
     "iopub.execute_input": "2023-10-08T15:17:18.399805Z",
     "iopub.status.busy": "2023-10-08T15:17:18.398577Z",
     "iopub.status.idle": "2023-10-08T15:17:18.433603Z",
     "shell.execute_reply": "2023-10-08T15:17:18.432274Z"
    },
    "papermill": {
     "duration": 0.110974,
     "end_time": "2023-10-08T15:17:18.437034",
     "exception": false,
     "start_time": "2023-10-08T15:17:18.326060",
     "status": "completed"
    },
    "tags": []
   },
   "outputs": [
    {
     "name": "stdout",
     "output_type": "stream",
     "text": [
      "              precision    recall  f1-score   support\n",
      "\n",
      "           0       0.99      0.95      0.97      2333\n",
      "           1       0.96      0.99      0.97      2706\n",
      "\n",
      "    accuracy                           0.97      5039\n",
      "   macro avg       0.97      0.97      0.97      5039\n",
      "weighted avg       0.97      0.97      0.97      5039\n",
      "\n",
      "Accuracy score of CNN model is : 0.9720182575907919\n"
     ]
    }
   ],
   "source": [
    "\n",
    "# Computing classification report (Precision, Recall, f1 score) and accuracy score\n",
    "\n",
    "# Import metrics from sklearn\n",
    "from sklearn.metrics import classification_report, accuracy_score\n",
    "\n",
    "# Define a threshold (usually 0.5) to convert probabilities to binary class labels\n",
    "threshold = 0.5\n",
    "\n",
    "# Convert continuous probabilities to binary class labels\n",
    "y_pred_binary = (y_pred > threshold).astype(int)\n",
    "\n",
    "# Calculate classification report and accuracy using binary labels\n",
    "cr = classification_report(y_test, y_pred_binary, labels=[0, 1]) # target_names=[\"Non-Intrusion\", \"Intrusion\"])\n",
    "accs = accuracy_score(y_test, y_pred_binary)\n",
    "\n",
    "print(cr)\n",
    "print(f\"Accuracy score of CNN model is : {accs}\")"
   ]
  }
 ],
 "metadata": {
  "kernelspec": {
   "display_name": "Python 3",
   "language": "python",
   "name": "python3"
  },
  "language_info": {
   "codemirror_mode": {
    "name": "ipython",
    "version": 3
   },
   "file_extension": ".py",
   "mimetype": "text/x-python",
   "name": "python",
   "nbconvert_exporter": "python",
   "pygments_lexer": "ipython3",
   "version": "3.10.12"
  },
  "papermill": {
   "default_parameters": {},
   "duration": 70.418934,
   "end_time": "2023-10-08T15:17:22.035562",
   "environment_variables": {},
   "exception": true,
   "input_path": "__notebook__.ipynb",
   "output_path": "__notebook__.ipynb",
   "parameters": {},
   "start_time": "2023-10-08T15:16:11.616628",
   "version": "2.4.0"
  }
 },
 "nbformat": 4,
 "nbformat_minor": 5
}
